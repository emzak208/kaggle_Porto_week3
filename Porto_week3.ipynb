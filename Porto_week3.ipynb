{
 "cells": [
  {
   "cell_type": "markdown",
   "metadata": {},
   "source": [
    "# Porto Seguro’s Safe Driver Prediction\n",
    "\n",
    "## Prerequisites\n",
    "Please make sure the following Python distributions and packages were installed.\n",
    "\n",
    "* [Anaconda](https://anaconda.org)\n",
    "* [XGBoost](https://github.com/dmlc/xgboost)\n",
    "* [LightGBM](https://github.com/Microsoft/LightGBM) - needed by week 2\n",
    "* [Keras](https://keras.io) - not needed by week 2\n",
    "* [Tensorflow](https://www.tensorflow.org) - not needed by week 2\n",
    "* [Bayesian Optimization](https://github.com/fmfn/BayesianOptimization) -  needed by week 2\n",
    "* [seaborn](https://seaborn.pydata.org)\n",
    "* [bokeh](http://bokeh.pydata.org)\n",
    "\n",
    "You'll also need to create the following sub-folders in your working folder:\n",
    "\n",
    "* input\n",
    "   \n",
    "   To store all the data files downloaded from Kaggle\n",
    "   \n",
    "   \n",
    "* output\n",
    "    \n",
    "    To store submission files\n",
    "   \n",
    "   \n",
    "* python\n",
    "    \n",
    "    To store python scripts and ipython notebooks including this one."
   ]
  },
  {
   "cell_type": "code",
   "execution_count": 1,
   "metadata": {
    "collapsed": true
   },
   "outputs": [],
   "source": [
    "import numpy as np\n",
    "from scipy import sparse\n",
    "import pandas as pd\n",
    "import xgboost as xgb\n",
    "import re\n",
    "import string\n",
    "import time\n",
    "import seaborn as sns\n",
    "import itertools\n",
    "import lightgbm as lgb\n",
    "from bayes_opt import BayesianOptimization\n",
    "import seaborn as sns\n",
    "import matplotlib.pyplot as plt\n",
    "\n",
    "import random\n",
    "from sklearn import preprocessing, pipeline, metrics, model_selection\n",
    "from sklearn.feature_extraction.text import TfidfVectorizer, CountVectorizer\n",
    "from sklearn.ensemble import RandomForestClassifier, ExtraTreesClassifier\n",
    "from sklearn.preprocessing import Imputer\n",
    "from sklearn.metrics import fbeta_score, make_scorer\n",
    "from sklearn.linear_model import LogisticRegression,RidgeClassifier\n",
    "from sklearn.neural_network import MLPClassifier\n",
    "\n",
    "\n",
    "%matplotlib inline \n"
   ]
  },
  {
   "cell_type": "markdown",
   "metadata": {},
   "source": [
    "# Define functions for normalized-gini caculation"
   ]
  },
  {
   "cell_type": "code",
   "execution_count": 2,
   "metadata": {
    "collapsed": true
   },
   "outputs": [],
   "source": [
    "def gini(actual, pred, cmpcol = 0, sortcol = 1):\n",
    "    assert( len(actual) == len(pred) )\n",
    "    all = np.asarray(np.c_[ actual, pred, np.arange(len(actual)) ], dtype=np.float)\n",
    "    all = all[ np.lexsort((all[:,2], -1*all[:,1])) ]\n",
    "    totalLosses = all[:,0].sum()\n",
    "    giniSum = all[:,0].cumsum().sum() / totalLosses\n",
    "    \n",
    "    giniSum -= (len(actual) + 1) / 2.\n",
    "    return giniSum / len(actual)\n",
    "\n",
    "def gini_normalized(a, p):\n",
    "    return gini(a, p) / gini(a, a)\n",
    "\n",
    "def gini_xgb(preds, dtrain):\n",
    "    labels = dtrain.get_label()\n",
    "    gini_score = gini_normalized(labels, preds)\n",
    "    return [('gini', gini_score)]\n",
    "\n",
    "def gini_lgb(preds, dtrain):\n",
    "    y = list(dtrain.get_label())\n",
    "    score = gini(y, preds) / gini(y, y)\n",
    "    return 'gini', score, True\n",
    "\n",
    "\n",
    "def gini_s(actual, pred, cmpcol = 0, sortcol = 1):\n",
    "#     pred=pred[:,1]\n",
    "    assert( len(actual) == len(pred) )\n",
    "    all = np.asarray(np.c_[ actual, pred, np.arange(len(actual)) ], dtype=np.float)\n",
    "    all = all[ np.lexsort((all[:,2], -1*all[:,1])) ]\n",
    "    totalLosses = all[:,0].sum()\n",
    "    giniSum = all[:,0].cumsum().sum() / totalLosses\n",
    "    \n",
    "    giniSum -= (len(actual) + 1) / 2.\n",
    "    return giniSum / len(actual)\n",
    "\n",
    "def gini_normalized_s(a, p):\n",
    "    p=p[:,1]\n",
    "    return gini_s(a, p) / gini(a, a)\n",
    "\n",
    "\n",
    "\n",
    "gini_scorer = metrics.make_scorer(gini_normalized_s, greater_is_better=True, needs_proba=True)\n",
    "\n",
    "def search_model(train_x, train_y, est, param_grid, n_jobs, cv, refit=False):\n",
    "##Grid Search for the best model\n",
    "    model = model_selection.GridSearchCV(estimator  = est,\n",
    "                                     param_grid = param_grid,\n",
    "                                     scoring    = gini_scorer,\n",
    "                                     verbose    = 10,\n",
    "                                     n_jobs  = n_jobs,\n",
    "                                     iid        = True,\n",
    "                                     refit    = refit,\n",
    "                                     cv      = cv)\n",
    "    # Fit Grid Search Model\n",
    "    model.fit(train_x, train_y)\n",
    "    print(\"Best score: %0.3f\" % model.best_score_)\n",
    "    print(\"Best parameters set:\", model.best_params_)\n",
    "    print(\"Scores:\", model.grid_scores_)\n",
    "    return model"
   ]
  },
  {
   "cell_type": "markdown",
   "metadata": {},
   "source": [
    "# Data initialization"
   ]
  },
  {
   "cell_type": "code",
   "execution_count": 3,
   "metadata": {
    "collapsed": true
   },
   "outputs": [],
   "source": [
    "train_data = pd.read_csv('../input/train.csv')\n",
    "test_data = pd.read_csv('../input/test.csv')\n",
    "train_size = train_data.shape[0]"
   ]
  },
  {
   "cell_type": "markdown",
   "metadata": {},
   "source": [
    "## Merge training and testing data\n",
    "So we don't have to perform transformations twice"
   ]
  },
  {
   "cell_type": "code",
   "execution_count": 4,
   "metadata": {
    "collapsed": true
   },
   "outputs": [],
   "source": [
    "full_data=pd.concat([train_data,test_data])"
   ]
  },
  {
   "cell_type": "markdown",
   "metadata": {},
   "source": [
    "## Group variables"
   ]
  },
  {
   "cell_type": "code",
   "execution_count": 5,
   "metadata": {
    "collapsed": true
   },
   "outputs": [],
   "source": [
    "cat_vars = [var for var in full_data.columns if 'cat' in var]\n",
    "\n",
    "num_vars = [var for var in full_data.columns if 'cat' not in var and var != 'id' and var!='target']\n",
    "\n",
    "id_var = 'id'\n",
    "target_var = 'target'"
   ]
  },
  {
   "cell_type": "markdown",
   "metadata": {},
   "source": [
    "# Feature engineering"
   ]
  },
  {
   "cell_type": "markdown",
   "metadata": {},
   "source": [
    "## Missing value imputation\n",
    "\n",
    "In this competition, missing values have already been pre-imputed as -1 (see [Data Description](https://www.kaggle.com/c/porto-seguro-safe-driver-prediction/data)), so technically we don't have to do any imputation to make the data work with most algorithms. \n",
    "\n",
    "However, XGBoost and LightGBM have a unique way of dealing with missing values which tend to be effective most of the time. By default, the assume Nan as missing value and would try to create splitting point for those samples with Nan. I would be interesting to try the followings and see which works better:\n",
    "\n",
    "1. Use the data as is (leave -1 in the data)\n",
    "2. Convert -1 to Nan, so both XGBoost and LightGBM will automatically deal with missing value"
   ]
  },
  {
   "cell_type": "markdown",
   "metadata": {},
   "source": [
    "## Pre-processing"
   ]
  },
  {
   "cell_type": "markdown",
   "metadata": {
    "collapsed": true
   },
   "source": [
    "### Categorical features - label encoding\n",
    "\n",
    "Label encoding is not really necessary for this competition as all categorical features have already been digitalized. I'm including this just for your reference.\n"
   ]
  },
  {
   "cell_type": "code",
   "execution_count": 6,
   "metadata": {},
   "outputs": [
    {
     "name": "stdout",
     "output_type": "stream",
     "text": [
      "Label Encoding ps_car_01_cat\n",
      "Label Encoding ps_car_02_cat\n",
      "Label Encoding ps_car_03_cat\n",
      "Label Encoding ps_car_04_cat\n",
      "Label Encoding ps_car_05_cat\n",
      "Label Encoding ps_car_06_cat\n",
      "Label Encoding ps_car_07_cat\n",
      "Label Encoding ps_car_08_cat\n",
      "Label Encoding ps_car_09_cat\n",
      "Label Encoding ps_car_10_cat\n",
      "Label Encoding ps_car_11_cat\n",
      "Label Encoding ps_ind_02_cat\n",
      "Label Encoding ps_ind_04_cat\n",
      "Label Encoding ps_ind_05_cat\n",
      "Label-encoded feaures: ['ps_car_01_cat_le', 'ps_car_02_cat_le', 'ps_car_03_cat_le', 'ps_car_04_cat_le', 'ps_car_05_cat_le', 'ps_car_06_cat_le', 'ps_car_07_cat_le', 'ps_car_08_cat_le', 'ps_car_09_cat_le', 'ps_car_10_cat_le', 'ps_car_11_cat_le', 'ps_ind_02_cat_le', 'ps_ind_04_cat_le', 'ps_ind_05_cat_le']\n"
     ]
    }
   ],
   "source": [
    "LBL = preprocessing.LabelEncoder()\n",
    "\n",
    "LE_vars=[]\n",
    "LE_map=dict()\n",
    "for cat_var in cat_vars:\n",
    "    print (\"Label Encoding %s\" % (cat_var))\n",
    "    LE_var=cat_var+'_le'\n",
    "    full_data[LE_var]=LBL.fit_transform(full_data[cat_var].fillna(-1))\n",
    "    LE_vars.append(LE_var)\n",
    "    LE_map[cat_var]=LBL.classes_\n",
    "    \n",
    "print (\"Label-encoded feaures: %s\" % (LE_vars))"
   ]
  },
  {
   "cell_type": "markdown",
   "metadata": {},
   "source": [
    "### Categorical features - one hot encoding¶\n",
    "\n",
    "You don't want to concatenate the converted OHE features with the original dataframe(full_data) becuase it would exponentially enlarge the size of the dataframe. In fact, it's recommended to use scipy.sparse.hstack to concatenate the data which you will see in the following sections."
   ]
  },
  {
   "cell_type": "code",
   "execution_count": 7,
   "metadata": {},
   "outputs": [
    {
     "name": "stdout",
     "output_type": "stream",
     "text": [
      "One-hot-encoding finished in 11.155560 seconds\n",
      "OHE_sparse size : (1488028, 184)\n",
      "One-hot encoded catgorical feature samples : ['ps_car_01__-1', 'ps_car_01__0', 'ps_car_01__1', 'ps_car_01__2', 'ps_car_01__3', 'ps_car_01__4', 'ps_car_01__5', 'ps_car_01__6', 'ps_car_01__7', 'ps_car_01__8', 'ps_car_01__9', 'ps_car_01__10', 'ps_car_01__11', 'ps_car_02__-1', 'ps_car_02__0', 'ps_car_02__1', 'ps_car_03__-1', 'ps_car_03__0', 'ps_car_03__1', 'ps_car_04__0', 'ps_car_04__1', 'ps_car_04__2', 'ps_car_04__3', 'ps_car_04__4', 'ps_car_04__5', 'ps_car_04__6', 'ps_car_04__7', 'ps_car_04__8', 'ps_car_04__9', 'ps_car_05__-1', 'ps_car_05__0', 'ps_car_05__1', 'ps_car_06__0', 'ps_car_06__1', 'ps_car_06__2', 'ps_car_06__3', 'ps_car_06__4', 'ps_car_06__5', 'ps_car_06__6', 'ps_car_06__7', 'ps_car_06__8', 'ps_car_06__9', 'ps_car_06__10', 'ps_car_06__11', 'ps_car_06__12', 'ps_car_06__13', 'ps_car_06__14', 'ps_car_06__15', 'ps_car_06__16', 'ps_car_06__17', 'ps_car_07__-1', 'ps_car_07__0', 'ps_car_07__1', 'ps_car_08__0', 'ps_car_08__1', 'ps_car_09__-1', 'ps_car_09__0', 'ps_car_09__1', 'ps_car_09__2', 'ps_car_09__3', 'ps_car_09__4', 'ps_car_10__0', 'ps_car_10__1', 'ps_car_10__2', 'ps_car_11__1', 'ps_car_11__2', 'ps_car_11__3', 'ps_car_11__4', 'ps_car_11__5', 'ps_car_11__6', 'ps_car_11__7', 'ps_car_11__8', 'ps_car_11__9', 'ps_car_11__10', 'ps_car_11__11', 'ps_car_11__12', 'ps_car_11__13', 'ps_car_11__14', 'ps_car_11__15', 'ps_car_11__16', 'ps_car_11__17', 'ps_car_11__18', 'ps_car_11__19', 'ps_car_11__20', 'ps_car_11__21', 'ps_car_11__22', 'ps_car_11__23', 'ps_car_11__24', 'ps_car_11__25', 'ps_car_11__26', 'ps_car_11__27', 'ps_car_11__28', 'ps_car_11__29', 'ps_car_11__30', 'ps_car_11__31', 'ps_car_11__32', 'ps_car_11__33', 'ps_car_11__34', 'ps_car_11__35', 'ps_car_11__36']\n"
     ]
    }
   ],
   "source": [
    "OHE = preprocessing.OneHotEncoder(sparse=True)\n",
    "start=time.time()\n",
    "OHE.fit(full_data[LE_vars])\n",
    "OHE_sparse=OHE.transform(full_data[LE_vars])\n",
    "                                   \n",
    "print ('One-hot-encoding finished in %f seconds' % (time.time()-start))\n",
    "\n",
    "\n",
    "OHE_vars = [var[:-3] + '_' + str(level).replace(' ','_')\\\n",
    "                for var in cat_vars for level in LE_map[var] ]\n",
    "\n",
    "print (\"OHE_sparse size :\" ,OHE_sparse.shape)\n",
    "print (\"One-hot encoded catgorical feature samples : %s\" % (OHE_vars[:100]))"
   ]
  },
  {
   "cell_type": "markdown",
   "metadata": {},
   "source": [
    "## Numeric features\n",
    "\n",
    "For the first two two weeks we will be using XGBoost/LightGBM which typically don't require pre-processing for numeric features so we will skip this part until week 3."
   ]
  },
  {
   "cell_type": "markdown",
   "metadata": {},
   "source": [
    "# Modelling\n",
    "\n",
    "We all run XGBoost models using a couple of combinations of features as well as with different missing value settings just to see how differently they perform.\n"
   ]
  },
  {
   "cell_type": "markdown",
   "metadata": {},
   "source": [
    "## Exclude cal features"
   ]
  },
  {
   "cell_type": "code",
   "execution_count": 8,
   "metadata": {},
   "outputs": [
    {
     "name": "stdout",
     "output_type": "stream",
     "text": [
      "['ps_calc_01', 'ps_calc_02', 'ps_calc_03', 'ps_calc_04', 'ps_calc_05', 'ps_calc_06', 'ps_calc_07', 'ps_calc_08', 'ps_calc_09', 'ps_calc_10', 'ps_calc_11', 'ps_calc_12', 'ps_calc_13', 'ps_calc_14', 'ps_calc_15_bin', 'ps_calc_16_bin', 'ps_calc_17_bin', 'ps_calc_18_bin', 'ps_calc_19_bin', 'ps_calc_20_bin']\n",
      "train data size: (595212, 207) test data size: (892816, 207)\n"
     ]
    }
   ],
   "source": [
    "calc_vars = [var for var in full_data.columns if 'calc' in var]\n",
    "print (calc_vars)\n",
    "\n",
    "full_vars = num_vars\n",
    "\n",
    "for calc_var in calc_vars:\n",
    "    if calc_var in full_vars:\n",
    "        full_vars.remove(calc_var)\n",
    "    \n",
    "    \n",
    "train_x = full_data[full_vars].fillna(-1)[:train_size].values\n",
    "train_y = full_data['target'][:train_size].values\n",
    "test_x = full_data[full_vars].fillna(-1)[train_size:].values\n",
    "ids = full_data[train_size:].id.values\n",
    "\n",
    "# concatenate dense features with sparse features\n",
    "train_x = sparse.hstack([train_x,  \n",
    "                         OHE_sparse[:train_size]]\n",
    "                       ).toarray()\n",
    "\n",
    "test_x = sparse.hstack([test_x,  \n",
    "                         OHE_sparse[train_size:]]\n",
    "                       ).toarray()\n",
    "\n",
    "train_y = full_data['target'][:train_size].values\n",
    "\n",
    "print ('train data size:', train_x.shape, 'test data size:', test_x.shape)    \n",
    "    "
   ]
  },
  {
   "cell_type": "code",
   "execution_count": 9,
   "metadata": {},
   "outputs": [
    {
     "name": "stdout",
     "output_type": "stream",
     "text": [
      "{'gamma': 0, 'colsample_bytree': 1, 'subsample': 1, 'objective': 'binary:logistic', 'seed': 1234, 'eta': 0.1, 'max_depth': 6, 'min_child_weight': 1}\n",
      "[0]\ttrain-error:0.0363986+1.21095e-05\ttrain-gini:0.228237+0.00156151\ttest-error:0.0365216+4.2856e-05\ttest-gini:0.213187+0.00846963\n",
      "[50]\ttrain-error:0.0364186+1.02489e-05\ttrain-gini:0.341019+0.00161828\ttest-error:0.036451+1.46561e-05\ttest-gini:0.273863+0.00644958\n",
      "[100]\ttrain-error:0.0364056+8.89044e-06\ttrain-gini:0.395477+0.000939415\ttest-error:0.0364562+1.6216e-05\ttest-gini:0.280889+0.00668435\n",
      "[150]\ttrain-error:0.0363918+9.45304e-06\ttrain-gini:0.431946+0.00307103\ttest-error:0.0364578+1.49853e-05\ttest-gini:0.27932+0.00614667\n",
      "best score: 0.2814588 best iterations: 109\n"
     ]
    }
   ],
   "source": [
    "xgb_params = {\n",
    "    'max_depth': 6,\n",
    "    'min_child_weight': 1,\n",
    "    'subsample': 1,\n",
    "    'colsample_bytree': 1,\n",
    "    'gamma': 0,\n",
    "    'objective': 'binary:logistic',\n",
    "    'eta': 0.1,\n",
    "    'seed': 1234}\n",
    "\n",
    "print(xgb_params)\n",
    "\n",
    "cv_results = xgb.cv(xgb_params, xgb.DMatrix(train_x, label=train_y.reshape(train_x.shape[0], 1)),\n",
    "                    num_boost_round=1000000,\n",
    "                    nfold=5,\n",
    "                    feval=gini_xgb, # custom evaluation metric\n",
    "                    maximize=True, \n",
    "                    stratified=True,\n",
    "                    shuffle=True,\n",
    "                    verbose_eval=50,\n",
    "                    seed=1234,\n",
    "                    early_stopping_rounds=50)\n",
    "\n",
    "best_xgb_score = cv_results['test-gini-mean'].max()\n",
    "best_xgb_iteration = len(cv_results)\n",
    "\n",
    "print('best score:', best_xgb_score, 'best iterations:', best_xgb_iteration)\n"
   ]
  },
  {
   "cell_type": "code",
   "execution_count": 10,
   "metadata": {},
   "outputs": [
    {
     "name": "stdout",
     "output_type": "stream",
     "text": [
      "{'gamma': 0, 'colsample_bytree': 1, 'subsample': 1, 'objective': 'binary:logistic', 'seed': 1234, 'eta': 0.1, 'max_depth': 6, 'min_child_weight': 1}\n",
      "[0]\ttrain-error:0.0363964+1.29089e-05\ttrain-gini:0.228248+0.00147397\ttest-error:0.0365198+4.28644e-05\ttest-gini:0.213195+0.00846143\n",
      "[50]\ttrain-error:0.0364212+1.10526e-05\ttrain-gini:0.342565+0.00100459\ttest-error:0.0364474+1.35588e-05\ttest-gini:0.272543+0.00635006\n",
      "[100]\ttrain-error:0.0364084+1.13772e-05\ttrain-gini:0.400851+0.00185054\ttest-error:0.0364494+1.69068e-05\ttest-gini:0.279965+0.00652896\n",
      "[150]\ttrain-error:0.036392+1.13137e-05\ttrain-gini:0.438264+0.00256642\ttest-error:0.0364526+1.38939e-05\ttest-gini:0.279326+0.0057657\n",
      "best score: 0.2803814 best iterations: 116\n"
     ]
    }
   ],
   "source": [
    "xgb_params = {\n",
    "    'max_depth': 6,\n",
    "    'min_child_weight': 1,\n",
    "    'subsample': 1,\n",
    "    'colsample_bytree': 1,\n",
    "    'gamma': 0,\n",
    "    'objective': 'binary:logistic',\n",
    "    'eta': 0.1,\n",
    "    'seed': 1234}\n",
    "\n",
    "print(xgb_params)\n",
    "\n",
    "cv_results = xgb.cv(xgb_params, xgb.DMatrix(train_x, label=train_y.reshape(train_x.shape[0], 1), missing=-1),\n",
    "                    num_boost_round=1000000,\n",
    "                    nfold=5,\n",
    "                    feval=gini_xgb, # custom evaluation metric\n",
    "                    maximize=True, \n",
    "                    stratified=True,\n",
    "                    shuffle=True,\n",
    "                    verbose_eval=50,\n",
    "                    seed=1234,\n",
    "                    early_stopping_rounds=50)\n",
    "\n",
    "best_xgb_score = cv_results['test-gini-mean'].max()\n",
    "best_xgb_iteration = len(cv_results)\n",
    "\n",
    "print('best score:', best_xgb_score, 'best iterations:', best_xgb_iteration)\n",
    "\n"
   ]
  },
  {
   "cell_type": "markdown",
   "metadata": {},
   "source": [
    "# Model tuning"
   ]
  },
  {
   "cell_type": "markdown",
   "metadata": {},
   "source": [
    "## 1. XGBoost\n",
    "### Manual tuning\n",
    "#### max_depth"
   ]
  },
  {
   "cell_type": "code",
   "execution_count": null,
   "metadata": {},
   "outputs": [
    {
     "name": "stdout",
     "output_type": "stream",
     "text": [
      "5 0.2827602 123\n",
      "6 0.2803814 116\n",
      "7 0.2796116 91\n",
      "8 0.2750888 71\n",
      "9 0.2699426 56\n",
      "10 0.2640798 61\n",
      "best max_depth is 5\n",
      "CPU times: user 5h 46min 7s, sys: 5min, total: 5h 51min 8s\n",
      "Wall time: 1h 3min 9s\n"
     ]
    }
   ],
   "source": [
    "%%time\n",
    "scores = []\n",
    "for max_depth in [5, 6, 7, 8, 9, 10]:\n",
    "\n",
    "    params = dict()\n",
    "    params['objective'] = 'binary:logistic'\n",
    "#     params['num_class'] = 3\n",
    "    params['eta'] = 0.1\n",
    "    params['max_depth'] = max_depth\n",
    "    params['min_child_weight'] = 1\n",
    "    params['colsample_bytree'] = 1\n",
    "    params['subsample'] = 1\n",
    "    params['gamma'] = 0\n",
    "    params['seed'] = 1234\n",
    "\n",
    "    cv_results = xgb.cv(params, xgb.DMatrix(train_x, label=train_y.reshape(train_x.shape[0], 1), missing=-1),\n",
    "                        num_boost_round=1000000,\n",
    "                        nfold=5,\n",
    "                        #            metrics={'mlogloss'},\n",
    "                        feval=gini_xgb, maximize=True,\n",
    "                        stratified=True,\n",
    "                        shuffle=True,\n",
    "                        seed=1234,\n",
    "                        early_stopping_rounds=10)\n",
    "    best_iteration = len(cv_results)\n",
    "    best_score = cv_results['test-gini-mean'].max()\n",
    "    print(max_depth, best_score, best_iteration)\n",
    "    scores.append([best_score, params['eta'], params['max_depth'], params['min_child_weight'],\n",
    "                   params['colsample_bytree'], params['subsample'], params['gamma'], best_iteration])\n",
    "\n",
    "scores = pd.DataFrame(scores, columns=['score', 'eta', 'max_depth', 'min_child_weight',\n",
    "                                       'colsample_bytree', 'subsample', 'gamma', 'best_iteration'])\n",
    "best_max_depth = scores.sort_values(by='score', ascending=False)[\n",
    "    'max_depth'].values[0]\n",
    "print('best max_depth is', best_max_depth)"
   ]
  },
  {
   "cell_type": "markdown",
   "metadata": {},
   "source": [
    "#### min_child_weight"
   ]
  },
  {
   "cell_type": "code",
   "execution_count": null,
   "metadata": {},
   "outputs": [
    {
     "name": "stdout",
     "output_type": "stream",
     "text": [
      "1 0.2827602 123\n"
     ]
    }
   ],
   "source": [
    "%%time\n",
    "scores = []\n",
    "for min_child_weight in [1, 10, 50, 100]:\n",
    "\n",
    "    params = dict()\n",
    "    params['objective'] = 'binary:logistic'\n",
    "#     params['num_class'] = 3\n",
    "    params['eta'] = 0.1\n",
    "    params['max_depth'] = best_max_depth\n",
    "    params['min_child_weight'] = min_child_weight\n",
    "    params['colsample_bytree'] = 1\n",
    "    params['subsample'] = 1\n",
    "    params['gamma'] = 0\n",
    "    params['seed'] = 1234\n",
    "\n",
    "    cv_results = xgb.cv(params, xgb.DMatrix(train_x, label=train_y.reshape(train_x.shape[0], 1), missing=-1),\n",
    "                        num_boost_round=1000000,\n",
    "                        nfold=5,\n",
    "                        #            metrics={'mlogloss'},\n",
    "                        feval=gini_xgb, maximize=True,\n",
    "                        stratified=True,\n",
    "                        shuffle=True,\n",
    "                        seed=1234,\n",
    "                        early_stopping_rounds=10)\n",
    "    best_iteration = len(cv_results)\n",
    "    best_score = cv_results['test-gini-mean'].max()\n",
    "    print(min_child_weight, best_score, best_iteration)\n",
    "    scores.append([best_score, params['eta'], params['max_depth'], params['min_child_weight'],\n",
    "                   params['colsample_bytree'], params['subsample'], params['gamma'], best_iteration])\n",
    "\n",
    "scores = pd.DataFrame(scores, columns=['score', 'eta', 'max_depth', 'min_child_weight',\n",
    "                                       'colsample_bytree', 'subsample', 'gamma', 'best_iteration'])\n",
    "best_min_child_weight = scores.sort_values(by='score', ascending=False)[\n",
    "    'min_child_weight'].values[0]\n",
    "print('best min_child_weight is', best_min_child_weight)"
   ]
  },
  {
   "cell_type": "markdown",
   "metadata": {},
   "source": [
    "#### colsample_bytree"
   ]
  },
  {
   "cell_type": "code",
   "execution_count": null,
   "metadata": {
    "collapsed": true
   },
   "outputs": [],
   "source": [
    "%%time\n",
    "scores = []\n",
    "for colsample_bytree in [0.1, 0.3, 0.5, 0.7, 0.9]:\n",
    "\n",
    "    params = dict()\n",
    "    params['objective'] = 'binary:logistic'\n",
    "#     params['num_class'] = 3\n",
    "    params['eta'] = 0.1\n",
    "    params['max_depth'] = best_max_depth\n",
    "    params['min_child_weight'] = best_min_child_weight\n",
    "    params['colsample_bytree'] = colsample_bytree\n",
    "    params['subsample'] = 1\n",
    "    params['gamma'] = 0\n",
    "    params['seed'] = 1234\n",
    "\n",
    "    cv_results = xgb.cv(params, xgb.DMatrix(train_x, label=train_y.reshape(train_x.shape[0], 1), missing=-1),\n",
    "                        num_boost_round=1000000,\n",
    "                        nfold=5,\n",
    "                        #            metrics={'mlogloss'},\n",
    "                        feval=gini_xgb, maximize=True,\n",
    "                        stratified=True,\n",
    "                        shuffle=True,\n",
    "                        seed=1234,\n",
    "                        early_stopping_rounds=10)\n",
    "    best_iteration = len(cv_results)\n",
    "    best_score = cv_results['test-gini-mean'].min()\n",
    "    print(colsample_bytree, best_score, best_iteration)\n",
    "    scores.append([best_score, params['eta'], params['max_depth'], params['min_child_weight'],\n",
    "                   params['colsample_bytree'], params['subsample'], params['gamma'], best_iteration])\n",
    "\n",
    "scores = pd.DataFrame(scores, columns=['score', 'eta', 'max_depth', 'min_child_weight',\n",
    "                                       'colsample_bytree', 'subsample', 'gamma', 'best_iteration'])\n",
    "best_colsample_bytree = scores.sort_values(by='score', ascending=False)[\n",
    "    'colsample_bytree'].values[0]\n",
    "print('best colsample_bytree is', best_colsample_bytree)"
   ]
  },
  {
   "cell_type": "markdown",
   "metadata": {},
   "source": [
    "#### subsample"
   ]
  },
  {
   "cell_type": "code",
   "execution_count": null,
   "metadata": {
    "collapsed": true
   },
   "outputs": [],
   "source": [
    "%%time\n",
    "scores = []\n",
    "for subsample in [0.1, 0.3, 0.5, 0.7, 0.9]:\n",
    "\n",
    "    params = dict()\n",
    "    params['objective'] = 'binary:logistic'\n",
    "#     params['num_class'] = 3\n",
    "    params['eta'] = 0.1\n",
    "    params['max_depth'] = best_max_depth\n",
    "    params['min_child_weight'] = best_min_child_weight\n",
    "    params['colsample_bytree'] = best_colsample_bytree\n",
    "    params['subsample'] = subsample\n",
    "    params['gamma'] = 0\n",
    "    params['seed'] = 1234\n",
    "\n",
    "    cv_results = xgb.cv(params, xgb.DMatrix(train_x, label=train_y.reshape(train_x.shape[0], 1), missing=-1),\n",
    "                        num_boost_round=1000000,\n",
    "                        nfold=5,\n",
    "                        #            metrics={'mlogloss'},\n",
    "                        feval=gini_xgb, maximize=True,\n",
    "                        stratified=True,\n",
    "                        shuffle=True,\n",
    "                        seed=1234,\n",
    "                        early_stopping_rounds=10)\n",
    "    best_iteration = len(cv_results)\n",
    "    best_score = cv_results['test-gini-mean'].max()\n",
    "    print(subsample, best_score, best_iteration)\n",
    "    scores.append([best_score, params['eta'], params['max_depth'], params['min_child_weight'],\n",
    "                   params['colsample_bytree'], params['subsample'], params['gamma'], best_iteration])\n",
    "\n",
    "scores = pd.DataFrame(scores, columns=['score', 'eta', 'max_depth', 'min_child_weight',\n",
    "                                       'colsample_bytree', 'subsample', 'gamma', 'best_iteration'])\n",
    "best_subsample = scores.sort_values(by='score', ascending=False)[\n",
    "    'subsample'].values[0]\n",
    "print('best subsample is', best_subsample)"
   ]
  },
  {
   "cell_type": "markdown",
   "metadata": {},
   "source": [
    "#### gamma"
   ]
  },
  {
   "cell_type": "code",
   "execution_count": null,
   "metadata": {
    "collapsed": true
   },
   "outputs": [],
   "source": [
    "%%time\n",
    "scores = []\n",
    "for gamma in [0, 0.5, 1, 1.5, 2]:\n",
    "\n",
    "    params = dict()\n",
    "    params['objective'] = 'binary:logistic'\n",
    "#     params['num_class'] = 3\n",
    "    params['eta'] = 0.1\n",
    "    params['max_depth'] = best_max_depth\n",
    "    params['min_child_weight'] = best_min_child_weight\n",
    "    params['colsample_bytree'] = best_colsample_bytree\n",
    "    params['subsample'] = best_subsample\n",
    "    params['gamma'] = gamma\n",
    "    params['seed'] = 1234\n",
    "\n",
    "    cv_results = xgb.cv(params, xgb.DMatrix(train_x, label=train_y.reshape(train_x.shape[0], 1), missing=-1),\n",
    "                        num_boost_round=1000000,\n",
    "                        nfold=5,\n",
    "                        #            metrics={'mlogloss'},\n",
    "                        feval=gini_xgb, maximize=True,\n",
    "                        stratified=True,\n",
    "                        shuffle=True,\n",
    "                        seed=1234,\n",
    "                        early_stopping_rounds=10)\n",
    "    best_iteration = len(cv_results)\n",
    "    best_score = cv_results['test-gini-mean'].max()\n",
    "    print(gamma, best_score, best_iteration)\n",
    "    scores.append([best_score, params['eta'], params['max_depth'], params['min_child_weight'],\n",
    "                   params['colsample_bytree'], params['subsample'], params['gamma'], best_iteration])\n",
    "\n",
    "scores = pd.DataFrame(scores, columns=['score', 'eta', 'max_depth', 'min_child_weight',\n",
    "                                       'colsample_bytree', 'subsample', 'gamma', 'best_iteration'])\n",
    "best_gamma = scores.sort_values(by='score', ascending=False)['gamma'].values[0]\n",
    "print('best gamma is', best_gamma)"
   ]
  },
  {
   "cell_type": "code",
   "execution_count": null,
   "metadata": {
    "collapsed": true
   },
   "outputs": [],
   "source": [
    "print(best_max_depth, best_min_child_weight,\n",
    "      best_colsample_bytree, best_subsample, best_gamma)\n",
    "\n",
    "scores.sort_values(by='score',ascending=False)"
   ]
  },
  {
   "cell_type": "markdown",
   "metadata": {},
   "source": [
    "### Automated tuning\n",
    "\n",
    "We will be using Bayesian optimization for automated parameter tuning.\n",
    "\n",
    "It works by constructing a posterior distribution of functions (gaussian process) that best describes the function you want to optimize. As the number of observations grows, the posterior distribution improves, and the algorithm becomes more certain of which regions in parameter space are worth exploring and which are not, as seen in the picture below.\n",
    "\n",
    "* https://github.com/fmfn/BayesianOptimization"
   ]
  },
  {
   "cell_type": "code",
   "execution_count": null,
   "metadata": {
    "collapsed": true
   },
   "outputs": [],
   "source": [
    "xgtrain = xgb.DMatrix(train_x, label=train_y.reshape(train_x.shape[0], 1))\n",
    "\n",
    "\n",
    "def xgb_evaluate(min_child_weight,\n",
    "                 colsample_bytree,\n",
    "                 max_depth,\n",
    "                 subsample,\n",
    "                 gamma):\n",
    "    params = dict()\n",
    "    params['objective'] = 'binary:logistic'\n",
    "#     params['num_class'] = 3\n",
    "    params['eta'] = 0.1\n",
    "    params['max_depth'] = int(max_depth)\n",
    "    params['min_child_weight'] = int(min_child_weight)\n",
    "    params['colsample_bytree'] = colsample_bytree\n",
    "    params['subsample'] = subsample\n",
    "    params['gamma'] = gamma\n",
    "    params['verbose_eval'] = True\n",
    "\n",
    "    cv_results = xgb.cv(params, xgb.DMatrix(train_x, label=train_y.reshape(train_x.shape[0], 1), missing=-1),\n",
    "                        num_boost_round=1000000,\n",
    "                        nfold=5,\n",
    "                        #            metrics={'mlogloss'},\n",
    "                        feval=gini_xgb, maximize=True,\n",
    "                        stratified=True,\n",
    "                        shuffle=True,\n",
    "                        seed=1234,\n",
    "                        early_stopping_rounds=10)\n",
    "\n",
    "    return cv_results['test-gini-mean'].max()\n",
    "\n",
    "\n",
    "xgb_BO = BayesianOptimization(xgb_evaluate,\n",
    "                              {'max_depth': (3, 10),\n",
    "                               'min_child_weight': (0, 100),\n",
    "                               'colsample_bytree': (0.1, 0.7),\n",
    "                               'subsample': (0.7, 1),\n",
    "                               'gamma': (0, 2)\n",
    "                               }\n",
    "                              )\n",
    "\n",
    "xgb_BO.maximize(init_points=5, n_iter=40)"
   ]
  },
  {
   "cell_type": "markdown",
   "metadata": {},
   "source": [
    "#### Show tuning results"
   ]
  },
  {
   "cell_type": "code",
   "execution_count": 21,
   "metadata": {},
   "outputs": [
    {
     "data": {
      "text/html": [
       "<div>\n",
       "<style>\n",
       "    .dataframe thead tr:only-child th {\n",
       "        text-align: right;\n",
       "    }\n",
       "\n",
       "    .dataframe thead th {\n",
       "        text-align: left;\n",
       "    }\n",
       "\n",
       "    .dataframe tbody tr th {\n",
       "        vertical-align: top;\n",
       "    }\n",
       "</style>\n",
       "<table border=\"1\" class=\"dataframe\">\n",
       "  <thead>\n",
       "    <tr style=\"text-align: right;\">\n",
       "      <th></th>\n",
       "      <th>colsample_bytree</th>\n",
       "      <th>gamma</th>\n",
       "      <th>max_depth</th>\n",
       "      <th>min_child_weight</th>\n",
       "      <th>subsample</th>\n",
       "      <th>score</th>\n",
       "    </tr>\n",
       "  </thead>\n",
       "  <tbody>\n",
       "    <tr>\n",
       "      <th>32</th>\n",
       "      <td>0.686114</td>\n",
       "      <td>1.169305</td>\n",
       "      <td>5.599073</td>\n",
       "      <td>99.722887</td>\n",
       "      <td>0.716211</td>\n",
       "      <td>0.286065</td>\n",
       "    </tr>\n",
       "    <tr>\n",
       "      <th>31</th>\n",
       "      <td>0.683748</td>\n",
       "      <td>0.556857</td>\n",
       "      <td>5.196770</td>\n",
       "      <td>99.981654</td>\n",
       "      <td>0.913247</td>\n",
       "      <td>0.286062</td>\n",
       "    </tr>\n",
       "    <tr>\n",
       "      <th>26</th>\n",
       "      <td>0.681606</td>\n",
       "      <td>1.956710</td>\n",
       "      <td>5.453632</td>\n",
       "      <td>99.930183</td>\n",
       "      <td>0.921342</td>\n",
       "      <td>0.285860</td>\n",
       "    </tr>\n",
       "    <tr>\n",
       "      <th>29</th>\n",
       "      <td>0.690288</td>\n",
       "      <td>0.145613</td>\n",
       "      <td>6.894344</td>\n",
       "      <td>76.669246</td>\n",
       "      <td>0.824055</td>\n",
       "      <td>0.285745</td>\n",
       "    </tr>\n",
       "    <tr>\n",
       "      <th>24</th>\n",
       "      <td>0.699761</td>\n",
       "      <td>0.052297</td>\n",
       "      <td>7.647611</td>\n",
       "      <td>84.625896</td>\n",
       "      <td>0.716369</td>\n",
       "      <td>0.285556</td>\n",
       "    </tr>\n",
       "  </tbody>\n",
       "</table>\n",
       "</div>"
      ],
      "text/plain": [
       "    colsample_bytree     gamma  max_depth  min_child_weight  subsample  \\\n",
       "32          0.686114  1.169305   5.599073         99.722887   0.716211   \n",
       "31          0.683748  0.556857   5.196770         99.981654   0.913247   \n",
       "26          0.681606  1.956710   5.453632         99.930183   0.921342   \n",
       "29          0.690288  0.145613   6.894344         76.669246   0.824055   \n",
       "24          0.699761  0.052297   7.647611         84.625896   0.716369   \n",
       "\n",
       "       score  \n",
       "32  0.286065  \n",
       "31  0.286062  \n",
       "26  0.285860  \n",
       "29  0.285745  \n",
       "24  0.285556  "
      ]
     },
     "execution_count": 21,
     "metadata": {},
     "output_type": "execute_result"
    }
   ],
   "source": [
    "xgb_BO_scores = pd.DataFrame(xgb_BO.res['all']['params'])\n",
    "xgb_BO_scores['score'] = pd.DataFrame(xgb_BO.res['all']['values'])\n",
    "xgb_BO_scores = xgb_BO_scores.sort_values(by='score',ascending=False)\n",
    "xgb_BO_scores.head()"
   ]
  },
  {
   "cell_type": "markdown",
   "metadata": {},
   "source": [
    "#### Plot scores vs parameters"
   ]
  },
  {
   "cell_type": "code",
   "execution_count": 23,
   "metadata": {},
   "outputs": [
    {
     "data": {
      "text/plain": [
       "<seaborn.axisgrid.PairGrid at 0x1067f5630>"
      ]
     },
     "execution_count": 23,
     "metadata": {},
     "output_type": "execute_result"
    },
    {
     "data": {
      "image/png": "[encoded data removed]",
      "text/plain": [
       "<matplotlib.figure.Figure at 0x106814390>"
      ]
     },
     "metadata": {},
     "output_type": "display_data"
    }
   ],
   "source": [
    "sns.pairplot(xgb_BO_scores)"
   ]
  },
  {
   "cell_type": "markdown",
   "metadata": {},
   "source": [
    "### Train the model with smaller learning rate"
   ]
  },
  {
   "cell_type": "code",
   "execution_count": null,
   "metadata": {
    "collapsed": true
   },
   "outputs": [],
   "source": [
    "xgb_params = xgb_BO_scores.iloc[0].to_dict()\n",
    "xgb_params['objective'] = 'binary:logistic'\n",
    "xgb_params['eta'] = 0.01  # Smaller\n",
    "\n",
    "xgb_params['max_depth'] = int(xgb_params['max_depth'])\n",
    "xgb_params['min_child_weight'] = int(xgb_params['min_child_weight'])\n",
    "xgb_params['subsample'] = xgb_params['subsample']\n",
    "xgb_params['colsample_bytree'] = xgb_params['colsample_bytree']\n",
    "xgb_params['gamma'] = xgb_params['gamma']\n",
    "xgb_params['seed'] = 1234\n",
    "\n",
    "cv_results = xgb.cv(params, xgb.DMatrix(train_x, label=train_y.reshape(train_x.shape[0], 1), missing=-1),\n",
    "                    num_boost_round=1000000,\n",
    "                    nfold=5,\n",
    "                    feval=gini_xgb, maximize=True,\n",
    "                    stratified=True,\n",
    "                    shuffle=True,\n",
    "                    seed=1234,\n",
    "                    early_stopping_rounds=10)\n",
    "\n",
    "best_iteration = len(cv_results)\n",
    "best_score = cv_results['test-gini-mean'].max()\n",
    "print(best_score, best_iteration)"
   ]
  },
  {
   "cell_type": "code",
   "execution_count": null,
   "metadata": {
    "collapsed": true
   },
   "outputs": [],
   "source": [
    "model = xgb.train(xgb_params,\n",
    "                  xgb.DMatrix(train_x, label=train_y.reshape(\n",
    "                      train_x.shape[0], 1), missing=-1),\n",
    "                  num_boost_round=best_xgb_iteration\n",
    "                  )\n",
    "\n",
    "preds = model.predict(xgb.DMatrix(test_x))\n",
    "\n",
    "sub_df = pd.DataFrame({'id': ids, 'target': preds})\n",
    "sub_df.to_csv(\"../output/sub_xgb_tuned.csv\", index=False)"
   ]
  },
  {
   "cell_type": "markdown",
   "metadata": {},
   "source": [
    "## 2.LightGBM\n",
    "\n",
    "### Manual tuning\n",
    "#### max_bin"
   ]
  },
  {
   "cell_type": "code",
   "execution_count": 24,
   "metadata": {
    "scrolled": true
   },
   "outputs": [
    {
     "name": "stdout",
     "output_type": "stream",
     "text": [
      "100\n",
      "[100]\tcv_agg's gini: 0.272883 + 0.0129624\n",
      "[200]\tcv_agg's gini: 0.280159 + 0.0114094\n",
      "100 183 0.280228734826\n",
      "255\n",
      "[100]\tcv_agg's gini: 0.273645 + 0.012711\n",
      "[200]\tcv_agg's gini: 0.280937 + 0.0120808\n",
      "255 233 0.281104066787\n",
      "400\n",
      "[100]\tcv_agg's gini: 0.272214 + 0.0131884\n",
      "[200]\tcv_agg's gini: 0.279531 + 0.0116094\n",
      "400 226 0.279800224483\n",
      "600\n",
      "[100]\tcv_agg's gini: 0.272778 + 0.0135331\n",
      "[200]\tcv_agg's gini: 0.280245 + 0.0113494\n",
      "600 185 0.280610033039\n",
      "800\n",
      "[100]\tcv_agg's gini: 0.272651 + 0.0133082\n",
      "[200]\tcv_agg's gini: 0.280158 + 0.0119478\n",
      "800 194 0.280212529426\n",
      "1000\n",
      "[100]\tcv_agg's gini: 0.272866 + 0.0131199\n",
      "[200]\tcv_agg's gini: 0.280388 + 0.0114486\n",
      "1000 200 0.280388359873\n",
      "best max_bin is 255\n",
      "CPU times: user 44min 51s, sys: 3min 23s, total: 48min 14s\n",
      "Wall time: 22min 27s\n"
     ]
    }
   ],
   "source": [
    "%%time\n",
    "scores = []\n",
    "for max_bin in [100, 255, 400, 600, 800, 1000]:\n",
    "\n",
    "    params = dict()\n",
    "    params['objective'] = 'binary'\n",
    "    params['learning_rate'] = 0.05\n",
    "    params['max_bin'] = max_bin\n",
    "\n",
    "    print(max_bin)\n",
    "\n",
    "    cv_results = lgb.cv(params,\n",
    "                        lgb.Dataset(train_x, train_y, max_bin=max_bin),\n",
    "                        num_boost_round=1000000,\n",
    "                        nfold=5,\n",
    "                        early_stopping_rounds=50,\n",
    "                        feval=gini_lgb,\n",
    "                        stratified=True,\n",
    "                        shuffle=True,\n",
    "                        verbose_eval=100\n",
    "                        )\n",
    "    cv_results = pd.DataFrame(cv_results)\n",
    "    best_iteration = len(cv_results)\n",
    "    best_score = cv_results['gini-mean'].max()\n",
    "    print(max_bin, best_iteration, best_score)\n",
    "    scores.append([max_bin, best_iteration, best_score])\n",
    "\n",
    "scores = pd.DataFrame(scores, columns=['max_bin', 'iteration', 'score'])\n",
    "best_max_bin = scores.sort_values(by='score', ascending=False)[\n",
    "    'max_bin'].values[0]\n",
    "print('best max_bin is', best_max_bin)"
   ]
  },
  {
   "cell_type": "markdown",
   "metadata": {},
   "source": [
    "#### num_leaves"
   ]
  },
  {
   "cell_type": "code",
   "execution_count": 25,
   "metadata": {},
   "outputs": [
    {
     "name": "stdout",
     "output_type": "stream",
     "text": [
      "3\n",
      "[100]\tcv_agg's gini: 0.24184 + 0.0148139\n",
      "[200]\tcv_agg's gini: 0.260099 + 0.0146228\n",
      "[300]\tcv_agg's gini: 0.266774 + 0.013883\n",
      "[400]\tcv_agg's gini: 0.270427 + 0.0134213\n",
      "[500]\tcv_agg's gini: 0.272747 + 0.0127301\n",
      "[600]\tcv_agg's gini: 0.274267 + 0.0125175\n",
      "[700]\tcv_agg's gini: 0.275316 + 0.0123477\n",
      "[800]\tcv_agg's gini: 0.276142 + 0.0122766\n",
      "[900]\tcv_agg's gini: 0.276941 + 0.0123148\n",
      "[1000]\tcv_agg's gini: 0.277428 + 0.0123566\n",
      "[1100]\tcv_agg's gini: 0.277924 + 0.012303\n",
      "[1200]\tcv_agg's gini: 0.278359 + 0.0123615\n",
      "[1300]\tcv_agg's gini: 0.278597 + 0.0123491\n",
      "[1400]\tcv_agg's gini: 0.278967 + 0.0123687\n",
      "[1500]\tcv_agg's gini: 0.279168 + 0.0122803\n",
      "[1600]\tcv_agg's gini: 0.279333 + 0.0122967\n",
      "[1700]\tcv_agg's gini: 0.279475 + 0.0123797\n",
      "3 0.279516553683 1662\n",
      "10\n",
      "[100]\tcv_agg's gini: 0.264191 + 0.0138285\n",
      "[200]\tcv_agg's gini: 0.277563 + 0.0123439\n",
      "[300]\tcv_agg's gini: 0.279868 + 0.012162\n",
      "[400]\tcv_agg's gini: 0.280636 + 0.0121318\n",
      "10 0.280690035583 442\n",
      "30\n",
      "[100]\tcv_agg's gini: 0.272451 + 0.0138891\n",
      "[200]\tcv_agg's gini: 0.280242 + 0.0122658\n",
      "30 0.280428995636 235\n",
      "100\n",
      "[100]\tcv_agg's gini: 0.273957 + 0.0118475\n",
      "100 0.276884360226 129\n",
      "300\n",
      "[100]\tcv_agg's gini: 0.269511 + 0.00983665\n",
      "300 0.27067188708 122\n",
      "1000\n",
      "[100]\tcv_agg's gini: 0.251213 + 0.00951964\n",
      "1000 0.252872906959 82\n",
      "best num_leaves is 10\n",
      "CPU times: user 1h 20min 38s, sys: 11min 35s, total: 1h 32min 13s\n",
      "Wall time: 45min 46s\n"
     ]
    }
   ],
   "source": [
    "%%time\n",
    "scores = []\n",
    "for num_leaves in [3, 10, 30, 100, 300, 1000]:\n",
    "\n",
    "    params = dict()\n",
    "    params['objective'] = 'binary'\n",
    "    params['learning_rate'] = 0.05\n",
    "    params['max_bin'] = best_max_bin\n",
    "    params['num_leaves'] = num_leaves\n",
    "\n",
    "    print(num_leaves)\n",
    "\n",
    "    cv_results = lgb.cv(params,\n",
    "                        lgb.Dataset(train_x, train_y, max_bin=best_max_bin),\n",
    "                        num_boost_round=1000000,\n",
    "                        nfold=5,\n",
    "                        early_stopping_rounds=50,\n",
    "                        feval=gini_lgb,\n",
    "                        stratified=True,\n",
    "                        shuffle=True,\n",
    "                        verbose_eval=100\n",
    "                        )\n",
    "    cv_results = pd.DataFrame(cv_results)\n",
    "    best_iteration = len(cv_results)\n",
    "    best_score = cv_results['gini-mean'].max()\n",
    "    print(num_leaves, best_score, best_iteration)\n",
    "    scores.append([num_leaves, best_iteration, best_score])\n",
    "\n",
    "scores = pd.DataFrame(scores, columns=['num_leaves', 'iteration', 'score'])\n",
    "best_num_leaves = scores.sort_values(by='score', ascending=False)[\n",
    "    'num_leaves'].values[0]\n",
    "print('best num_leaves is', best_num_leaves)"
   ]
  },
  {
   "cell_type": "markdown",
   "metadata": {},
   "source": [
    "#### feature_fraction"
   ]
  },
  {
   "cell_type": "code",
   "execution_count": 26,
   "metadata": {},
   "outputs": [
    {
     "name": "stdout",
     "output_type": "stream",
     "text": [
      "[100]\tcv_agg's gini: 0.265516 + 0.0145027\n",
      "[200]\tcv_agg's gini: 0.276034 + 0.0133182\n",
      "[300]\tcv_agg's gini: 0.279491 + 0.0128656\n",
      "[400]\tcv_agg's gini: 0.280272 + 0.0128974\n",
      "[500]\tcv_agg's gini: 0.280961 + 0.0123685\n",
      "[600]\tcv_agg's gini: 0.280995 + 0.0121489\n",
      "[700]\tcv_agg's gini: 0.281342 + 0.0118044\n",
      "0.2 671 0.281373010273\n",
      "[100]\tcv_agg's gini: 0.25407 + 0.0137064\n",
      "[200]\tcv_agg's gini: 0.264483 + 0.0115939\n",
      "[300]\tcv_agg's gini: 0.266197 + 0.0114555\n",
      "[400]\tcv_agg's gini: 0.266802 + 0.0111663\n",
      "0.4 385 0.266936411816\n",
      "[100]\tcv_agg's gini: 0.264118 + 0.0144109\n",
      "[200]\tcv_agg's gini: 0.27764 + 0.0127389\n",
      "[300]\tcv_agg's gini: 0.279726 + 0.011906\n",
      "[400]\tcv_agg's gini: 0.280575 + 0.0114312\n",
      "[500]\tcv_agg's gini: 0.280999 + 0.0114831\n",
      "0.6 465 0.281128754399\n",
      "[100]\tcv_agg's gini: 0.264524 + 0.0135293\n",
      "[200]\tcv_agg's gini: 0.277307 + 0.0124953\n",
      "[300]\tcv_agg's gini: 0.279677 + 0.0124617\n",
      "[400]\tcv_agg's gini: 0.280219 + 0.0121539\n",
      "0.8 406 0.280256755699\n",
      "best feature_fraction is 0.2\n",
      "CPU times: user 42min 31s, sys: 1min 20s, total: 43min 51s\n",
      "Wall time: 21min 29s\n"
     ]
    }
   ],
   "source": [
    "%%time\n",
    "scores = []\n",
    "for feature_fraction in [0.2, 0.4, 0.6, 0.8]:\n",
    "\n",
    "    params = dict()\n",
    "    params['objective'] = 'binary'\n",
    "    params['learning_rate'] = 0.05\n",
    "    params['max_bin'] = best_max_bin\n",
    "    params['num_leaves'] = best_num_leaves\n",
    "    params['feature_fraction'] = feature_fraction\n",
    "\n",
    "    cv_results = lgb.cv(params,\n",
    "                        lgb.Dataset(train_x, train_y, max_bin=best_max_bin),\n",
    "                        num_boost_round=1000000,\n",
    "                        nfold=5,\n",
    "                        early_stopping_rounds=50,\n",
    "                        feval=gini_lgb,\n",
    "                        stratified=True,\n",
    "                        shuffle=True,\n",
    "                        verbose_eval=100\n",
    "                        )\n",
    "    cv_results = pd.DataFrame(cv_results)\n",
    "    best_iteration = len(cv_results)\n",
    "    best_score = cv_results['gini-mean'].max()\n",
    "    print(feature_fraction, best_iteration, best_score)\n",
    "    scores.append([feature_fraction, best_iteration, best_score])\n",
    "\n",
    "scores = pd.DataFrame(\n",
    "    scores, columns=['feature_fraction', 'iteration', 'score'])\n",
    "best_feature_fraction = scores.sort_values(by='score', ascending=False)[\n",
    "    'feature_fraction'].values[0]\n",
    "print('best feature_fraction is', best_feature_fraction)"
   ]
  },
  {
   "cell_type": "markdown",
   "metadata": {},
   "source": [
    "#### bagging_fraction"
   ]
  },
  {
   "cell_type": "code",
   "execution_count": 27,
   "metadata": {},
   "outputs": [
    {
     "name": "stdout",
     "output_type": "stream",
     "text": [
      "[100]\tcv_agg's gini: 0.264847 + 0.0144427\n",
      "[200]\tcv_agg's gini: 0.272827 + 0.0134549\n",
      "[300]\tcv_agg's gini: 0.274964 + 0.0131892\n",
      "[400]\tcv_agg's gini: 0.275841 + 0.0124526\n",
      "0.3 394 0.27595120361\n",
      "[100]\tcv_agg's gini: 0.26515 + 0.0138944\n",
      "[200]\tcv_agg's gini: 0.274263 + 0.013209\n",
      "[300]\tcv_agg's gini: 0.277024 + 0.012762\n",
      "[400]\tcv_agg's gini: 0.278626 + 0.0125844\n",
      "[500]\tcv_agg's gini: 0.279411 + 0.0124752\n",
      "[600]\tcv_agg's gini: 0.279546 + 0.0122253\n"
     ]
    },
    {
     "ename": "KeyboardInterrupt",
     "evalue": "",
     "output_type": "error",
     "traceback": [
      "\u001b[0;31m---------------------------------------------------------------------------\u001b[0m",
      "\u001b[0;31mKeyboardInterrupt\u001b[0m                         Traceback (most recent call last)",
      "\u001b[0;32m<ipython-input-27-701f0264bb8f>\u001b[0m in \u001b[0;36m<module>\u001b[0;34m()\u001b[0m\n\u001b[0;32m----> 1\u001b[0;31m \u001b[0mget_ipython\u001b[0m\u001b[0;34m(\u001b[0m\u001b[0;34m)\u001b[0m\u001b[0;34m.\u001b[0m\u001b[0mrun_cell_magic\u001b[0m\u001b[0;34m(\u001b[0m\u001b[0;34m'time'\u001b[0m\u001b[0;34m,\u001b[0m \u001b[0;34m''\u001b[0m\u001b[0;34m,\u001b[0m \u001b[0;34m\"scores = []\\nfor bagging_fraction in [0.3, 0.5, 0.7, 0.9]:\\n\\n    params = dict()\\n    params['objective'] = 'binary'\\n    params['learning_rate'] = 0.05\\n    params['max_bin'] = best_max_bin\\n    params['num_leaves'] = best_num_leaves\\n    params['feature_fraction'] = best_feature_fraction\\n    params['bagging_fraction'] = bagging_fraction\\n    params['bagging_freq'] = 1\\n\\n    cv_results = lgb.cv(params,\\n                    lgb.Dataset(train_x, train_y, max_bin=best_max_bin),\\n                    num_boost_round=1000000,\\n                    nfold=5,\\n                    early_stopping_rounds=50,\\n                    feval=gini_lgb,                         \\n                        stratified=True,\\n                        shuffle=True,\\n                    verbose_eval=100\\n                   )\\n    cv_results = pd.DataFrame(cv_results)\\n    best_iteration = len(cv_results)\\n    best_score = cv_results['gini-mean'].max()\\n    print (bagging_fraction,best_iteration,best_score)\\n    scores.append([bagging_fraction,best_iteration,best_score])\\n\\nscores = pd.DataFrame(scores, columns =['bagging_fraction','iteration','score'])\\nbest_bagging_fraction = scores.sort_values(by='score',ascending=False)['bagging_fraction'].values[0]\\nprint ('best bagging_fraction is', best_bagging_fraction)\"\u001b[0m\u001b[0;34m)\u001b[0m\u001b[0;34m\u001b[0m\u001b[0m\n\u001b[0m",
      "\u001b[0;32m/Users/cchen1/anaconda3/lib/python3.5/site-packages/IPython/core/interactiveshell.py\u001b[0m in \u001b[0;36mrun_cell_magic\u001b[0;34m(self, magic_name, line, cell)\u001b[0m\n\u001b[1;32m   2113\u001b[0m             \u001b[0mmagic_arg_s\u001b[0m \u001b[0;34m=\u001b[0m \u001b[0mself\u001b[0m\u001b[0;34m.\u001b[0m\u001b[0mvar_expand\u001b[0m\u001b[0;34m(\u001b[0m\u001b[0mline\u001b[0m\u001b[0;34m,\u001b[0m \u001b[0mstack_depth\u001b[0m\u001b[0;34m)\u001b[0m\u001b[0;34m\u001b[0m\u001b[0m\n\u001b[1;32m   2114\u001b[0m             \u001b[0;32mwith\u001b[0m \u001b[0mself\u001b[0m\u001b[0;34m.\u001b[0m\u001b[0mbuiltin_trap\u001b[0m\u001b[0;34m:\u001b[0m\u001b[0;34m\u001b[0m\u001b[0m\n\u001b[0;32m-> 2115\u001b[0;31m                 \u001b[0mresult\u001b[0m \u001b[0;34m=\u001b[0m \u001b[0mfn\u001b[0m\u001b[0;34m(\u001b[0m\u001b[0mmagic_arg_s\u001b[0m\u001b[0;34m,\u001b[0m \u001b[0mcell\u001b[0m\u001b[0;34m)\u001b[0m\u001b[0;34m\u001b[0m\u001b[0m\n\u001b[0m\u001b[1;32m   2116\u001b[0m             \u001b[0;32mreturn\u001b[0m \u001b[0mresult\u001b[0m\u001b[0;34m\u001b[0m\u001b[0m\n\u001b[1;32m   2117\u001b[0m \u001b[0;34m\u001b[0m\u001b[0m\n",
      "\u001b[0;32m<decorator-gen-59>\u001b[0m in \u001b[0;36mtime\u001b[0;34m(self, line, cell, local_ns)\u001b[0m\n",
      "\u001b[0;32m/Users/cchen1/anaconda3/lib/python3.5/site-packages/IPython/core/magic.py\u001b[0m in \u001b[0;36m<lambda>\u001b[0;34m(f, *a, **k)\u001b[0m\n\u001b[1;32m    186\u001b[0m     \u001b[0;31m# but it's overkill for just that one bit of state.\u001b[0m\u001b[0;34m\u001b[0m\u001b[0;34m\u001b[0m\u001b[0m\n\u001b[1;32m    187\u001b[0m     \u001b[0;32mdef\u001b[0m \u001b[0mmagic_deco\u001b[0m\u001b[0;34m(\u001b[0m\u001b[0marg\u001b[0m\u001b[0;34m)\u001b[0m\u001b[0;34m:\u001b[0m\u001b[0;34m\u001b[0m\u001b[0m\n\u001b[0;32m--> 188\u001b[0;31m         \u001b[0mcall\u001b[0m \u001b[0;34m=\u001b[0m \u001b[0;32mlambda\u001b[0m \u001b[0mf\u001b[0m\u001b[0;34m,\u001b[0m \u001b[0;34m*\u001b[0m\u001b[0ma\u001b[0m\u001b[0;34m,\u001b[0m \u001b[0;34m**\u001b[0m\u001b[0mk\u001b[0m\u001b[0;34m:\u001b[0m \u001b[0mf\u001b[0m\u001b[0;34m(\u001b[0m\u001b[0;34m*\u001b[0m\u001b[0ma\u001b[0m\u001b[0;34m,\u001b[0m \u001b[0;34m**\u001b[0m\u001b[0mk\u001b[0m\u001b[0;34m)\u001b[0m\u001b[0;34m\u001b[0m\u001b[0m\n\u001b[0m\u001b[1;32m    189\u001b[0m \u001b[0;34m\u001b[0m\u001b[0m\n\u001b[1;32m    190\u001b[0m         \u001b[0;32mif\u001b[0m \u001b[0mcallable\u001b[0m\u001b[0;34m(\u001b[0m\u001b[0marg\u001b[0m\u001b[0;34m)\u001b[0m\u001b[0;34m:\u001b[0m\u001b[0;34m\u001b[0m\u001b[0m\n",
      "\u001b[0;32m/Users/cchen1/anaconda3/lib/python3.5/site-packages/IPython/core/magics/execution.py\u001b[0m in \u001b[0;36mtime\u001b[0;34m(self, line, cell, local_ns)\u001b[0m\n\u001b[1;32m   1178\u001b[0m         \u001b[0;32melse\u001b[0m\u001b[0;34m:\u001b[0m\u001b[0;34m\u001b[0m\u001b[0m\n\u001b[1;32m   1179\u001b[0m             \u001b[0mst\u001b[0m \u001b[0;34m=\u001b[0m \u001b[0mclock2\u001b[0m\u001b[0;34m(\u001b[0m\u001b[0;34m)\u001b[0m\u001b[0;34m\u001b[0m\u001b[0m\n\u001b[0;32m-> 1180\u001b[0;31m             \u001b[0mexec\u001b[0m\u001b[0;34m(\u001b[0m\u001b[0mcode\u001b[0m\u001b[0;34m,\u001b[0m \u001b[0mglob\u001b[0m\u001b[0;34m,\u001b[0m \u001b[0mlocal_ns\u001b[0m\u001b[0;34m)\u001b[0m\u001b[0;34m\u001b[0m\u001b[0m\n\u001b[0m\u001b[1;32m   1181\u001b[0m             \u001b[0mend\u001b[0m \u001b[0;34m=\u001b[0m \u001b[0mclock2\u001b[0m\u001b[0;34m(\u001b[0m\u001b[0;34m)\u001b[0m\u001b[0;34m\u001b[0m\u001b[0m\n\u001b[1;32m   1182\u001b[0m             \u001b[0mout\u001b[0m \u001b[0;34m=\u001b[0m \u001b[0;32mNone\u001b[0m\u001b[0;34m\u001b[0m\u001b[0m\n",
      "\u001b[0;32m<timed exec>\u001b[0m in \u001b[0;36m<module>\u001b[0;34m()\u001b[0m\n",
      "\u001b[0;32m/Users/cchen1/anaconda3/lib/python3.5/site-packages/lightgbm/engine.py\u001b[0m in \u001b[0;36mcv\u001b[0;34m(params, train_set, num_boost_round, folds, nfold, stratified, shuffle, metrics, fobj, feval, init_model, feature_name, categorical_feature, early_stopping_rounds, fpreproc, verbose_eval, show_stdv, seed, callbacks)\u001b[0m\n\u001b[1;32m    442\u001b[0m                                     evaluation_result_list=None))\n\u001b[1;32m    443\u001b[0m         \u001b[0mcvfolds\u001b[0m\u001b[0;34m.\u001b[0m\u001b[0mupdate\u001b[0m\u001b[0;34m(\u001b[0m\u001b[0mfobj\u001b[0m\u001b[0;34m=\u001b[0m\u001b[0mfobj\u001b[0m\u001b[0;34m)\u001b[0m\u001b[0;34m\u001b[0m\u001b[0m\n\u001b[0;32m--> 444\u001b[0;31m         \u001b[0mres\u001b[0m \u001b[0;34m=\u001b[0m \u001b[0m_agg_cv_result\u001b[0m\u001b[0;34m(\u001b[0m\u001b[0mcvfolds\u001b[0m\u001b[0;34m.\u001b[0m\u001b[0meval_valid\u001b[0m\u001b[0;34m(\u001b[0m\u001b[0mfeval\u001b[0m\u001b[0;34m)\u001b[0m\u001b[0;34m)\u001b[0m\u001b[0;34m\u001b[0m\u001b[0m\n\u001b[0m\u001b[1;32m    445\u001b[0m         \u001b[0;32mfor\u001b[0m \u001b[0m_\u001b[0m\u001b[0;34m,\u001b[0m \u001b[0mkey\u001b[0m\u001b[0;34m,\u001b[0m \u001b[0mmean\u001b[0m\u001b[0;34m,\u001b[0m \u001b[0m_\u001b[0m\u001b[0;34m,\u001b[0m \u001b[0mstd\u001b[0m \u001b[0;32min\u001b[0m \u001b[0mres\u001b[0m\u001b[0;34m:\u001b[0m\u001b[0;34m\u001b[0m\u001b[0m\n\u001b[1;32m    446\u001b[0m             \u001b[0mresults\u001b[0m\u001b[0;34m[\u001b[0m\u001b[0mkey\u001b[0m \u001b[0;34m+\u001b[0m \u001b[0;34m'-mean'\u001b[0m\u001b[0;34m]\u001b[0m\u001b[0;34m.\u001b[0m\u001b[0mappend\u001b[0m\u001b[0;34m(\u001b[0m\u001b[0mmean\u001b[0m\u001b[0;34m)\u001b[0m\u001b[0;34m\u001b[0m\u001b[0m\n",
      "\u001b[0;32m/Users/cchen1/anaconda3/lib/python3.5/site-packages/lightgbm/engine.py\u001b[0m in \u001b[0;36mhandlerFunction\u001b[0;34m(*args, **kwargs)\u001b[0m\n\u001b[1;32m    242\u001b[0m             \u001b[0mret\u001b[0m \u001b[0;34m=\u001b[0m \u001b[0;34m[\u001b[0m\u001b[0;34m]\u001b[0m\u001b[0;34m\u001b[0m\u001b[0m\n\u001b[1;32m    243\u001b[0m             \u001b[0;32mfor\u001b[0m \u001b[0mbooster\u001b[0m \u001b[0;32min\u001b[0m \u001b[0mself\u001b[0m\u001b[0;34m.\u001b[0m\u001b[0mboosters\u001b[0m\u001b[0;34m:\u001b[0m\u001b[0;34m\u001b[0m\u001b[0m\n\u001b[0;32m--> 244\u001b[0;31m                 \u001b[0mret\u001b[0m\u001b[0;34m.\u001b[0m\u001b[0mappend\u001b[0m\u001b[0;34m(\u001b[0m\u001b[0mgetattr\u001b[0m\u001b[0;34m(\u001b[0m\u001b[0mbooster\u001b[0m\u001b[0;34m,\u001b[0m \u001b[0mname\u001b[0m\u001b[0;34m)\u001b[0m\u001b[0;34m(\u001b[0m\u001b[0;34m*\u001b[0m\u001b[0margs\u001b[0m\u001b[0;34m,\u001b[0m \u001b[0;34m**\u001b[0m\u001b[0mkwargs\u001b[0m\u001b[0;34m)\u001b[0m\u001b[0;34m)\u001b[0m\u001b[0;34m\u001b[0m\u001b[0m\n\u001b[0m\u001b[1;32m    245\u001b[0m             \u001b[0;32mreturn\u001b[0m \u001b[0mret\u001b[0m\u001b[0;34m\u001b[0m\u001b[0m\n\u001b[1;32m    246\u001b[0m         \u001b[0;32mreturn\u001b[0m \u001b[0mhandlerFunction\u001b[0m\u001b[0;34m\u001b[0m\u001b[0m\n",
      "\u001b[0;32m/Users/cchen1/anaconda3/lib/python3.5/site-packages/lightgbm/basic.py\u001b[0m in \u001b[0;36meval_valid\u001b[0;34m(self, feval)\u001b[0m\n\u001b[1;32m   1554\u001b[0m             \u001b[0mList\u001b[0m \u001b[0;32mwith\u001b[0m \u001b[0mevaluation\u001b[0m \u001b[0mresults\u001b[0m\u001b[0;34m.\u001b[0m\u001b[0;34m\u001b[0m\u001b[0m\n\u001b[1;32m   1555\u001b[0m         \"\"\"\n\u001b[0;32m-> 1556\u001b[0;31m         return [item for i in range_(1, self.__num_dataset)\n\u001b[0m\u001b[1;32m   1557\u001b[0m                 for item in self.__inner_eval(self.name_valid_sets[i - 1], i, feval)]\n\u001b[1;32m   1558\u001b[0m \u001b[0;34m\u001b[0m\u001b[0m\n",
      "\u001b[0;32m/Users/cchen1/anaconda3/lib/python3.5/site-packages/lightgbm/basic.py\u001b[0m in \u001b[0;36m<listcomp>\u001b[0;34m(.0)\u001b[0m\n\u001b[1;32m   1555\u001b[0m         \"\"\"\n\u001b[1;32m   1556\u001b[0m         return [item for i in range_(1, self.__num_dataset)\n\u001b[0;32m-> 1557\u001b[0;31m                 for item in self.__inner_eval(self.name_valid_sets[i - 1], i, feval)]\n\u001b[0m\u001b[1;32m   1558\u001b[0m \u001b[0;34m\u001b[0m\u001b[0m\n\u001b[1;32m   1559\u001b[0m     \u001b[0;32mdef\u001b[0m \u001b[0msave_model\u001b[0m\u001b[0;34m(\u001b[0m\u001b[0mself\u001b[0m\u001b[0;34m,\u001b[0m \u001b[0mfilename\u001b[0m\u001b[0;34m,\u001b[0m \u001b[0mnum_iteration\u001b[0m\u001b[0;34m=\u001b[0m\u001b[0;34m-\u001b[0m\u001b[0;36m1\u001b[0m\u001b[0;34m)\u001b[0m\u001b[0;34m:\u001b[0m\u001b[0;34m\u001b[0m\u001b[0m\n",
      "\u001b[0;32m/Users/cchen1/anaconda3/lib/python3.5/site-packages/lightgbm/basic.py\u001b[0m in \u001b[0;36m__inner_eval\u001b[0;34m(self, data_name, data_idx, feval)\u001b[0m\n\u001b[1;32m   1817\u001b[0m             \u001b[0;32melse\u001b[0m\u001b[0;34m:\u001b[0m\u001b[0;34m\u001b[0m\u001b[0m\n\u001b[1;32m   1818\u001b[0m                 \u001b[0mcur_data\u001b[0m \u001b[0;34m=\u001b[0m \u001b[0mself\u001b[0m\u001b[0;34m.\u001b[0m\u001b[0mvalid_sets\u001b[0m\u001b[0;34m[\u001b[0m\u001b[0mdata_idx\u001b[0m \u001b[0;34m-\u001b[0m \u001b[0;36m1\u001b[0m\u001b[0;34m]\u001b[0m\u001b[0;34m\u001b[0m\u001b[0m\n\u001b[0;32m-> 1819\u001b[0;31m             \u001b[0mfeval_ret\u001b[0m \u001b[0;34m=\u001b[0m \u001b[0mfeval\u001b[0m\u001b[0;34m(\u001b[0m\u001b[0mself\u001b[0m\u001b[0;34m.\u001b[0m\u001b[0m__inner_predict\u001b[0m\u001b[0;34m(\u001b[0m\u001b[0mdata_idx\u001b[0m\u001b[0;34m)\u001b[0m\u001b[0;34m,\u001b[0m \u001b[0mcur_data\u001b[0m\u001b[0;34m)\u001b[0m\u001b[0;34m\u001b[0m\u001b[0m\n\u001b[0m\u001b[1;32m   1820\u001b[0m             \u001b[0;32mif\u001b[0m \u001b[0misinstance\u001b[0m\u001b[0;34m(\u001b[0m\u001b[0mfeval_ret\u001b[0m\u001b[0;34m,\u001b[0m \u001b[0mlist\u001b[0m\u001b[0;34m)\u001b[0m\u001b[0;34m:\u001b[0m\u001b[0;34m\u001b[0m\u001b[0m\n\u001b[1;32m   1821\u001b[0m                 \u001b[0;32mfor\u001b[0m \u001b[0meval_name\u001b[0m\u001b[0;34m,\u001b[0m \u001b[0mval\u001b[0m\u001b[0;34m,\u001b[0m \u001b[0mis_higher_better\u001b[0m \u001b[0;32min\u001b[0m \u001b[0mfeval_ret\u001b[0m\u001b[0;34m:\u001b[0m\u001b[0;34m\u001b[0m\u001b[0m\n",
      "\u001b[0;32m<ipython-input-2-a4df15bf7648>\u001b[0m in \u001b[0;36mgini_lgb\u001b[0;34m(preds, dtrain)\u001b[0m\n\u001b[1;32m     19\u001b[0m \u001b[0;32mdef\u001b[0m \u001b[0mgini_lgb\u001b[0m\u001b[0;34m(\u001b[0m\u001b[0mpreds\u001b[0m\u001b[0;34m,\u001b[0m \u001b[0mdtrain\u001b[0m\u001b[0;34m)\u001b[0m\u001b[0;34m:\u001b[0m\u001b[0;34m\u001b[0m\u001b[0m\n\u001b[1;32m     20\u001b[0m     \u001b[0my\u001b[0m \u001b[0;34m=\u001b[0m \u001b[0mlist\u001b[0m\u001b[0;34m(\u001b[0m\u001b[0mdtrain\u001b[0m\u001b[0;34m.\u001b[0m\u001b[0mget_label\u001b[0m\u001b[0;34m(\u001b[0m\u001b[0;34m)\u001b[0m\u001b[0;34m)\u001b[0m\u001b[0;34m\u001b[0m\u001b[0m\n\u001b[0;32m---> 21\u001b[0;31m     \u001b[0mscore\u001b[0m \u001b[0;34m=\u001b[0m \u001b[0mgini\u001b[0m\u001b[0;34m(\u001b[0m\u001b[0my\u001b[0m\u001b[0;34m,\u001b[0m \u001b[0mpreds\u001b[0m\u001b[0;34m)\u001b[0m \u001b[0;34m/\u001b[0m \u001b[0mgini\u001b[0m\u001b[0;34m(\u001b[0m\u001b[0my\u001b[0m\u001b[0;34m,\u001b[0m \u001b[0my\u001b[0m\u001b[0;34m)\u001b[0m\u001b[0;34m\u001b[0m\u001b[0m\n\u001b[0m\u001b[1;32m     22\u001b[0m     \u001b[0;32mreturn\u001b[0m \u001b[0;34m'gini'\u001b[0m\u001b[0;34m,\u001b[0m \u001b[0mscore\u001b[0m\u001b[0;34m,\u001b[0m \u001b[0;32mTrue\u001b[0m\u001b[0;34m\u001b[0m\u001b[0m\n\u001b[1;32m     23\u001b[0m \u001b[0;34m\u001b[0m\u001b[0m\n",
      "\u001b[0;32m<ipython-input-2-a4df15bf7648>\u001b[0m in \u001b[0;36mgini\u001b[0;34m(actual, pred, cmpcol, sortcol)\u001b[0m\n\u001b[1;32m      2\u001b[0m     \u001b[0;32massert\u001b[0m\u001b[0;34m(\u001b[0m \u001b[0mlen\u001b[0m\u001b[0;34m(\u001b[0m\u001b[0mactual\u001b[0m\u001b[0;34m)\u001b[0m \u001b[0;34m==\u001b[0m \u001b[0mlen\u001b[0m\u001b[0;34m(\u001b[0m\u001b[0mpred\u001b[0m\u001b[0;34m)\u001b[0m \u001b[0;34m)\u001b[0m\u001b[0;34m\u001b[0m\u001b[0m\n\u001b[1;32m      3\u001b[0m     \u001b[0mall\u001b[0m \u001b[0;34m=\u001b[0m \u001b[0mnp\u001b[0m\u001b[0;34m.\u001b[0m\u001b[0masarray\u001b[0m\u001b[0;34m(\u001b[0m\u001b[0mnp\u001b[0m\u001b[0;34m.\u001b[0m\u001b[0mc_\u001b[0m\u001b[0;34m[\u001b[0m \u001b[0mactual\u001b[0m\u001b[0;34m,\u001b[0m \u001b[0mpred\u001b[0m\u001b[0;34m,\u001b[0m \u001b[0mnp\u001b[0m\u001b[0;34m.\u001b[0m\u001b[0marange\u001b[0m\u001b[0;34m(\u001b[0m\u001b[0mlen\u001b[0m\u001b[0;34m(\u001b[0m\u001b[0mactual\u001b[0m\u001b[0;34m)\u001b[0m\u001b[0;34m)\u001b[0m \u001b[0;34m]\u001b[0m\u001b[0;34m,\u001b[0m \u001b[0mdtype\u001b[0m\u001b[0;34m=\u001b[0m\u001b[0mnp\u001b[0m\u001b[0;34m.\u001b[0m\u001b[0mfloat\u001b[0m\u001b[0;34m)\u001b[0m\u001b[0;34m\u001b[0m\u001b[0m\n\u001b[0;32m----> 4\u001b[0;31m     \u001b[0mall\u001b[0m \u001b[0;34m=\u001b[0m \u001b[0mall\u001b[0m\u001b[0;34m[\u001b[0m \u001b[0mnp\u001b[0m\u001b[0;34m.\u001b[0m\u001b[0mlexsort\u001b[0m\u001b[0;34m(\u001b[0m\u001b[0;34m(\u001b[0m\u001b[0mall\u001b[0m\u001b[0;34m[\u001b[0m\u001b[0;34m:\u001b[0m\u001b[0;34m,\u001b[0m\u001b[0;36m2\u001b[0m\u001b[0;34m]\u001b[0m\u001b[0;34m,\u001b[0m \u001b[0;34m-\u001b[0m\u001b[0;36m1\u001b[0m\u001b[0;34m*\u001b[0m\u001b[0mall\u001b[0m\u001b[0;34m[\u001b[0m\u001b[0;34m:\u001b[0m\u001b[0;34m,\u001b[0m\u001b[0;36m1\u001b[0m\u001b[0;34m]\u001b[0m\u001b[0;34m)\u001b[0m\u001b[0;34m)\u001b[0m \u001b[0;34m]\u001b[0m\u001b[0;34m\u001b[0m\u001b[0m\n\u001b[0m\u001b[1;32m      5\u001b[0m     \u001b[0mtotalLosses\u001b[0m \u001b[0;34m=\u001b[0m \u001b[0mall\u001b[0m\u001b[0;34m[\u001b[0m\u001b[0;34m:\u001b[0m\u001b[0;34m,\u001b[0m\u001b[0;36m0\u001b[0m\u001b[0;34m]\u001b[0m\u001b[0;34m.\u001b[0m\u001b[0msum\u001b[0m\u001b[0;34m(\u001b[0m\u001b[0;34m)\u001b[0m\u001b[0;34m\u001b[0m\u001b[0m\n\u001b[1;32m      6\u001b[0m     \u001b[0mginiSum\u001b[0m \u001b[0;34m=\u001b[0m \u001b[0mall\u001b[0m\u001b[0;34m[\u001b[0m\u001b[0;34m:\u001b[0m\u001b[0;34m,\u001b[0m\u001b[0;36m0\u001b[0m\u001b[0;34m]\u001b[0m\u001b[0;34m.\u001b[0m\u001b[0mcumsum\u001b[0m\u001b[0;34m(\u001b[0m\u001b[0;34m)\u001b[0m\u001b[0;34m.\u001b[0m\u001b[0msum\u001b[0m\u001b[0;34m(\u001b[0m\u001b[0;34m)\u001b[0m \u001b[0;34m/\u001b[0m \u001b[0mtotalLosses\u001b[0m\u001b[0;34m\u001b[0m\u001b[0m\n",
      "\u001b[0;31mKeyboardInterrupt\u001b[0m: "
     ]
    }
   ],
   "source": [
    "%%time\n",
    "scores = []\n",
    "for bagging_fraction in [0.3, 0.5, 0.7, 0.9]:\n",
    "\n",
    "    params = dict()\n",
    "    params['objective'] = 'binary'\n",
    "    params['learning_rate'] = 0.05\n",
    "    params['max_bin'] = best_max_bin\n",
    "    params['num_leaves'] = best_num_leaves\n",
    "    params['feature_fraction'] = best_feature_fraction\n",
    "    params['bagging_fraction'] = bagging_fraction\n",
    "    params['bagging_freq'] = 1\n",
    "\n",
    "    cv_results = lgb.cv(params,\n",
    "                    lgb.Dataset(train_x, train_y, max_bin=best_max_bin),\n",
    "                    num_boost_round=1000000,\n",
    "                    nfold=5,\n",
    "                    early_stopping_rounds=50,\n",
    "                    feval=gini_lgb,                         \n",
    "                        stratified=True,\n",
    "                        shuffle=True,\n",
    "                    verbose_eval=100\n",
    "                   )\n",
    "    cv_results = pd.DataFrame(cv_results)\n",
    "    best_iteration = len(cv_results)\n",
    "    best_score = cv_results['gini-mean'].max()\n",
    "    print (bagging_fraction,best_iteration,best_score)\n",
    "    scores.append([bagging_fraction,best_iteration,best_score])\n",
    "\n",
    "scores = pd.DataFrame(scores, columns =['bagging_fraction','iteration','score'])\n",
    "best_bagging_fraction = scores.sort_values(by='score',ascending=False)['bagging_fraction'].values[0]\n",
    "print ('best bagging_fraction is', best_bagging_fraction)"
   ]
  },
  {
   "cell_type": "markdown",
   "metadata": {},
   "source": [
    "#### bagging_freq"
   ]
  },
  {
   "cell_type": "code",
   "execution_count": null,
   "metadata": {
    "collapsed": true
   },
   "outputs": [],
   "source": [
    "%%time\n",
    "scores = []\n",
    "for bagging_freq in [1, 3, 5]:\n",
    "\n",
    "    params = dict()\n",
    "    params['objective'] = 'binary'\n",
    "    params['learning_rate'] = 0.05\n",
    "    params['max_bin'] = best_max_bin\n",
    "    params['num_leaves'] = best_num_leaves\n",
    "    params['feature_fraction'] = best_feature_fraction\n",
    "    params['bagging_fraction'] = best_bagging_fraction\n",
    "    params['bagging_freq'] = bagging_freq\n",
    "\n",
    "    cv_results = lgb.cv(params,\n",
    "                    lgb.Dataset(train_x, train_y, max_bin=best_max_bin),\n",
    "                    num_boost_round=1000000,\n",
    "                    nfold=5,\n",
    "                    early_stopping_rounds=50,\n",
    "                    feval=gini_lgb,                         \n",
    "                        stratified=True,\n",
    "                        shuffle=True,\n",
    "                    verbose_eval=100\n",
    "                   )\n",
    "    cv_results = pd.DataFrame(cv_results)\n",
    "    best_iteration = len(cv_results)\n",
    "    best_score = cv_results['gini-mean'].max()\n",
    "    print (bagging_freq,best_iteration,best_score)\n",
    "    scores.append([bagging_freq,best_iteration,best_score])\n",
    "\n",
    "scores = pd.DataFrame(scores, columns =['bagging_freq','iteration','score'])\n",
    "best_bagging_freq = scores.sort_values(by='score',ascending=False)['bagging_freq'].values[0]\n",
    "print ('best bagging_freq is', best_bagging_freq)"
   ]
  },
  {
   "cell_type": "markdown",
   "metadata": {},
   "source": [
    "#### min_gain_to_split"
   ]
  },
  {
   "cell_type": "code",
   "execution_count": null,
   "metadata": {
    "collapsed": true
   },
   "outputs": [],
   "source": [
    "%%time\n",
    "scores = []\n",
    "for min_gain_to_split in [0, 0.1, 0.5, 1.0, 1.5]:\n",
    "\n",
    "    params = dict()\n",
    "    params['objective'] = 'binary'\n",
    "    params['learning_rate'] = 0.05\n",
    "    params['max_bin'] = best_max_bin\n",
    "    params['num_leaves'] = best_num_leaves\n",
    "    params['feature_fraction'] = best_feature_fraction\n",
    "    params['bagging_fraction'] = best_bagging_fraction\n",
    "    params['min_gain_to_split'] = min_gain_to_split\n",
    "\n",
    "    cv_results = lgb.cv(params,\n",
    "                    lgb.Dataset(train_x, train_y, max_bin=best_max_bin),\n",
    "                    num_boost_round=1000000,\n",
    "                    nfold=5,\n",
    "                    early_stopping_rounds=50,\n",
    "                    feval=gini_lgb,                         \n",
    "                        stratified=True,\n",
    "                        shuffle=True,\n",
    "                    verbose_eval=100\n",
    "                   )\n",
    "    cv_results = pd.DataFrame(cv_results)\n",
    "    best_iteration = len(cv_results)\n",
    "    best_score = cv_results['gini-mean'].max()\n",
    "    print (min_gain_to_split,best_iteration,best_score)\n",
    "    scores.append([min_gain_to_split,best_iteration,best_score])\n",
    "\n",
    "scores = pd.DataFrame(scores, columns =['min_gain_to_split','iteration','score'])\n",
    "best_min_gain_to_split = scores.sort_values(by='score',ascending=False)['min_gain_to_split'].values[0]\n",
    "print ('best min_gain_to_split is', best_min_gain_to_split)\n",
    "\n"
   ]
  },
  {
   "cell_type": "markdown",
   "metadata": {},
   "source": [
    "#### min_sum_hessian_in_leaf"
   ]
  },
  {
   "cell_type": "code",
   "execution_count": null,
   "metadata": {
    "collapsed": true
   },
   "outputs": [],
   "source": [
    "%%time\n",
    "scores = []\n",
    "for min_sum_hessian_in_leaf in [0,0.001,1, 3, 10,30,100]:\n",
    "\n",
    "    params = dict()\n",
    "    params['objective'] = 'binary'\n",
    "    params['learning_rate'] = 0.05\n",
    "    params['max_bin'] = best_max_bin\n",
    "    params['num_leaves'] = best_num_leaves\n",
    "    params['feature_fraction'] = best_feature_fraction\n",
    "    params['bagging_fraction'] = best_bagging_fraction\n",
    "    params['min_gain_to_split'] = best_min_gain_to_split\n",
    "    params['min_sum_hessian_in_leaf'] = min_sum_hessian_in_leaf\n",
    "\n",
    "    cv_results = lgb.cv(params,\n",
    "                    lgb.Dataset(train_x, train_y, max_bin=best_max_bin),\n",
    "                    num_boost_round=1000000,\n",
    "                    nfold=5,\n",
    "                    early_stopping_rounds=50,\n",
    "                    feval=gini_lgb,                         \n",
    "                        stratified=True,\n",
    "                        shuffle=True,\n",
    "                    verbose_eval=100\n",
    "                   )\n",
    "    cv_results = pd.DataFrame(cv_results)\n",
    "    best_iteration = len(cv_results)\n",
    "    best_score = cv_results['gini-mean'].max()\n",
    "    print (min_sum_hessian_in_leaf,best_iteration,best_score)\n",
    "    scores.append([min_sum_hessian_in_leaf,best_iteration,best_score])\n",
    "\n",
    "scores = pd.DataFrame(scores, columns =['min_sum_hessian_in_leaf','iteration','score'])\n",
    "best_min_sum_hessian_in_leaf = scores.sort_values(by='score',ascending=False)['min_sum_hessian_in_leaf'].values[0]\n",
    "print ('best min_sum_hessian_in_leaf is', best_min_sum_hessian_in_leaf)"
   ]
  },
  {
   "cell_type": "code",
   "execution_count": null,
   "metadata": {
    "collapsed": true
   },
   "outputs": [],
   "source": [
    "print (best_max_bin, best_num_leaves, best_feature_fraction, best_bagging_fraction, best_bagging_freq, \n",
    "       best_min_gain_to_split, best_min_sum_hessian_in_leaf)\n",
    "       "
   ]
  },
  {
   "cell_type": "markdown",
   "metadata": {},
   "source": [
    "### Automated tuning"
   ]
  },
  {
   "cell_type": "code",
   "execution_count": 29,
   "metadata": {},
   "outputs": [
    {
     "name": "stdout",
     "output_type": "stream",
     "text": [
      "\u001b[31mInitialization\u001b[0m\n",
      "\u001b[94m-------------------------------------------------------------------------------------------------------------------------------------------------------------------------------------------------\u001b[0m\n",
      " Step |   Time |      Value |   bagging_fraction |   bagging_freq |   feature_fraction |   lambda_l1 |   lambda_l2 |   max_bin |   min_gain_to_split |   min_sum_hessian_in_leaf |   num_leaves | \n",
      "[100]\tcv_agg's gini: 0.259938 + 0.0133488\n",
      "[200]\tcv_agg's gini: 0.271728 + 0.0130951\n",
      "[300]\tcv_agg's gini: 0.275569 + 0.0126247\n",
      "[400]\tcv_agg's gini: 0.276963 + 0.01219\n",
      "[500]\tcv_agg's gini: 0.277501 + 0.0120512\n",
      "    1 | 07m27s | \u001b[35m   0.27758\u001b[0m | \u001b[32m            0.9409\u001b[0m | \u001b[32m        2.4595\u001b[0m | \u001b[32m            0.1120\u001b[0m | \u001b[32m     0.1915\u001b[0m | \u001b[32m     0.3578\u001b[0m | \u001b[32m 255.0000\u001b[0m | \u001b[32m             1.1224\u001b[0m | \u001b[32m                   6.8624\u001b[0m | \u001b[32m     13.5422\u001b[0m | \n",
      "[100]\tcv_agg's gini: 0.260736 + 0.0129623\n",
      "[200]\tcv_agg's gini: 0.272985 + 0.0127794\n",
      "[300]\tcv_agg's gini: 0.276922 + 0.0123051\n",
      "[400]\tcv_agg's gini: 0.278364 + 0.0119334\n",
      "[500]\tcv_agg's gini: 0.278859 + 0.0117232\n",
      "[600]\tcv_agg's gini: 0.279035 + 0.011667\n",
      "    2 | 09m07s | \u001b[35m   0.27905\u001b[0m | \u001b[32m            0.8438\u001b[0m | \u001b[32m        3.4616\u001b[0m | \u001b[32m            0.1369\u001b[0m | \u001b[32m     0.6221\u001b[0m | \u001b[32m     0.5010\u001b[0m | \u001b[32m 255.0000\u001b[0m | \u001b[32m             1.0062\u001b[0m | \u001b[32m                   4.5748\u001b[0m | \u001b[32m     13.6351\u001b[0m | \n",
      "[100]\tcv_agg's gini: 0.261352 + 0.0130934\n",
      "[200]\tcv_agg's gini: 0.273727 + 0.0122487\n",
      "[300]\tcv_agg's gini: 0.277363 + 0.0116661\n",
      "[400]\tcv_agg's gini: 0.27825 + 0.0113164\n",
      "[500]\tcv_agg's gini: 0.278963 + 0.0109263\n",
      "    3 | 07m48s |    0.27902 |             0.9850 |         1.3015 |             0.1095 |      0.4377 |      0.6835 |  255.0000 |              0.0275 |                    8.0986 |      26.2449 | \n",
      "[100]\tcv_agg's gini: 0.267523 + 0.0132627\n",
      "[200]\tcv_agg's gini: 0.27814 + 0.0116877\n",
      "[300]\tcv_agg's gini: 0.279535 + 0.012092\n",
      "[400]\tcv_agg's gini: 0.279878 + 0.0118769\n",
      "    4 | 05m46s | \u001b[35m   0.28001\u001b[0m | \u001b[32m            0.8884\u001b[0m | \u001b[32m        2.4753\u001b[0m | \u001b[32m            0.2350\u001b[0m | \u001b[32m     0.7854\u001b[0m | \u001b[32m     0.7127\u001b[0m | \u001b[32m 255.0000\u001b[0m | \u001b[32m             1.5457\u001b[0m | \u001b[32m                   3.8515\u001b[0m | \u001b[32m     29.9953\u001b[0m | \n",
      "[100]\tcv_agg's gini: 0.264103 + 0.0124454\n",
      "[200]\tcv_agg's gini: 0.273646 + 0.010805\n",
      "[300]\tcv_agg's gini: 0.275114 + 0.0104607\n",
      "    5 | 04m27s |    0.27539 |             0.9819 |         4.7326 |             0.2189 |      0.7800 |      0.3703 |  255.0000 |              1.7653 |                    6.1129 |      28.0224 | \n",
      "\u001b[31mBayesian Optimization\u001b[0m\n",
      "\u001b[94m-------------------------------------------------------------------------------------------------------------------------------------------------------------------------------------------------\u001b[0m\n",
      " Step |   Time |      Value |   bagging_fraction |   bagging_freq |   feature_fraction |   lambda_l1 |   lambda_l2 |   max_bin |   min_gain_to_split |   min_sum_hessian_in_leaf |   num_leaves | \n",
      "[100]\tcv_agg's gini: 0.26939 + 0.0127123\n",
      "[200]\tcv_agg's gini: 0.278681 + 0.0121873\n",
      "[300]\tcv_agg's gini: 0.280347 + 0.0116586\n",
      "[400]\tcv_agg's gini: 0.280467 + 0.011491\n"
     ]
    },
    {
     "name": "stderr",
     "output_type": "stream",
     "text": [
      "/Users/cchen1/anaconda3/lib/python3.5/site-packages/sklearn/gaussian_process/gpr.py:427: UserWarning: fmin_l_bfgs_b terminated abnormally with the  state: {'grad': array([ -2.36526376e-05]), 'funcalls': 50, 'warnflag': 2, 'nit': 6, 'task': b'ABNORMAL_TERMINATION_IN_LNSRCH'}\n",
      "  \" state: %s\" % convergence_dict)\n"
     ]
    },
    {
     "name": "stdout",
     "output_type": "stream",
     "text": [
      "    6 | 06m45s | \u001b[35m   0.28067\u001b[0m | \u001b[32m            0.9957\u001b[0m | \u001b[32m        1.0177\u001b[0m | \u001b[32m            0.1606\u001b[0m | \u001b[32m     0.1066\u001b[0m | \u001b[32m     0.2957\u001b[0m | \u001b[32m 255.0000\u001b[0m | \u001b[32m             0.0312\u001b[0m | \u001b[32m                   1.0983\u001b[0m | \u001b[32m     30.3693\u001b[0m | \n",
      "[100]\tcv_agg's gini: 0.248767 + 0.0140734\n",
      "[200]\tcv_agg's gini: 0.261197 + 0.0130886\n",
      "[300]\tcv_agg's gini: 0.263972 + 0.0124107\n",
      "[400]\tcv_agg's gini: 0.265095 + 0.0121511\n",
      "[500]\tcv_agg's gini: 0.265586 + 0.0120023\n",
      "[600]\tcv_agg's gini: 0.2658 + 0.01194\n",
      "[700]\tcv_agg's gini: 0.265922 + 0.0118622\n",
      "    7 | 09m02s |    0.26595 |             0.9953 |         1.1248 |             0.2738 |      0.9749 |      0.9910 |  255.0000 |              1.2101 |                    1.6725 |       7.0775 | \n",
      "[100]\tcv_agg's gini: 0.255617 + 0.0127976\n",
      "[200]\tcv_agg's gini: 0.27005 + 0.013179\n",
      "[300]\tcv_agg's gini: 0.274459 + 0.0126871\n",
      "[400]\tcv_agg's gini: 0.275759 + 0.0122269\n",
      "[500]\tcv_agg's gini: 0.276533 + 0.012132\n",
      "[600]\tcv_agg's gini: 0.276793 + 0.0118971\n",
      "    8 | 07m02s |    0.27683 |             0.8939 |         1.0856 |             0.1180 |      0.1760 |      0.0206 |  255.0000 |              1.8847 |                    1.5293 |      20.3400 | \n",
      "[100]\tcv_agg's gini: 0.258628 + 0.0139763\n",
      "[200]\tcv_agg's gini: 0.269073 + 0.0114838\n",
      "[300]\tcv_agg's gini: 0.271746 + 0.0102547\n",
      "[400]\tcv_agg's gini: 0.272208 + 0.00980526\n",
      "    9 | 08m10s |    0.27253 |             0.8602 |         4.4644 |             0.2945 |      0.0162 |      0.9444 |  255.0000 |              0.1158 |                    1.3646 |      21.0305 | \n",
      "[100]\tcv_agg's gini: 0.259954 + 0.0132633\n",
      "[200]\tcv_agg's gini: 0.274336 + 0.0127126\n",
      "[300]\tcv_agg's gini: 0.279162 + 0.0121786\n",
      "[400]\tcv_agg's gini: 0.280902 + 0.0117419\n",
      "[500]\tcv_agg's gini: 0.281691 + 0.0116414\n",
      "   10 | 09m16s | \u001b[35m   0.28187\u001b[0m | \u001b[32m            0.8359\u001b[0m | \u001b[32m        1.0116\u001b[0m | \u001b[32m            0.2286\u001b[0m | \u001b[32m     0.9969\u001b[0m | \u001b[32m     0.1415\u001b[0m | \u001b[32m 255.0000\u001b[0m | \u001b[32m             0.2426\u001b[0m | \u001b[32m                   9.3741\u001b[0m | \u001b[32m     12.6181\u001b[0m | \n",
      "[100]\tcv_agg's gini: 0.256586 + 0.0130146\n",
      "[200]\tcv_agg's gini: 0.268909 + 0.0131649\n",
      "[300]\tcv_agg's gini: 0.272962 + 0.0126719\n",
      "[400]\tcv_agg's gini: 0.274631 + 0.0125869\n"
     ]
    },
    {
     "ename": "KeyboardInterrupt",
     "evalue": "",
     "output_type": "error",
     "traceback": [
      "\u001b[0;31m---------------------------------------------------------------------------\u001b[0m",
      "\u001b[0;31mKeyboardInterrupt\u001b[0m                         Traceback (most recent call last)",
      "\u001b[0;32m<ipython-input-29-80baca0e5611>\u001b[0m in \u001b[0;36m<module>\u001b[0;34m()\u001b[0m\n\u001b[1;32m     48\u001b[0m                             )\n\u001b[1;32m     49\u001b[0m \u001b[0;34m\u001b[0m\u001b[0m\n\u001b[0;32m---> 50\u001b[0;31m \u001b[0mlgb_BO\u001b[0m\u001b[0;34m.\u001b[0m\u001b[0mmaximize\u001b[0m\u001b[0;34m(\u001b[0m\u001b[0minit_points\u001b[0m\u001b[0;34m=\u001b[0m\u001b[0;36m5\u001b[0m\u001b[0;34m,\u001b[0m \u001b[0mn_iter\u001b[0m\u001b[0;34m=\u001b[0m\u001b[0;36m50\u001b[0m\u001b[0;34m)\u001b[0m\u001b[0;34m\u001b[0m\u001b[0m\n\u001b[0m\u001b[1;32m     51\u001b[0m \u001b[0;34m\u001b[0m\u001b[0m\n",
      "\u001b[0;32m/Users/cchen1/anaconda3/lib/python3.5/site-packages/bayes_opt/bayesian_optimization.py\u001b[0m in \u001b[0;36mmaximize\u001b[0;34m(self, init_points, n_iter, acq, kappa, xi, **gp_params)\u001b[0m\n\u001b[1;32m    302\u001b[0m             \u001b[0;31m# Append most recently generated values to X and Y arrays\u001b[0m\u001b[0;34m\u001b[0m\u001b[0;34m\u001b[0m\u001b[0m\n\u001b[1;32m    303\u001b[0m             \u001b[0mself\u001b[0m\u001b[0;34m.\u001b[0m\u001b[0mX\u001b[0m \u001b[0;34m=\u001b[0m \u001b[0mnp\u001b[0m\u001b[0;34m.\u001b[0m\u001b[0mvstack\u001b[0m\u001b[0;34m(\u001b[0m\u001b[0;34m(\u001b[0m\u001b[0mself\u001b[0m\u001b[0;34m.\u001b[0m\u001b[0mX\u001b[0m\u001b[0;34m,\u001b[0m \u001b[0mx_max\u001b[0m\u001b[0;34m.\u001b[0m\u001b[0mreshape\u001b[0m\u001b[0;34m(\u001b[0m\u001b[0;34m(\u001b[0m\u001b[0;36m1\u001b[0m\u001b[0;34m,\u001b[0m \u001b[0;34m-\u001b[0m\u001b[0;36m1\u001b[0m\u001b[0;34m)\u001b[0m\u001b[0;34m)\u001b[0m\u001b[0;34m)\u001b[0m\u001b[0;34m)\u001b[0m\u001b[0;34m\u001b[0m\u001b[0m\n\u001b[0;32m--> 304\u001b[0;31m             \u001b[0mself\u001b[0m\u001b[0;34m.\u001b[0m\u001b[0mY\u001b[0m \u001b[0;34m=\u001b[0m \u001b[0mnp\u001b[0m\u001b[0;34m.\u001b[0m\u001b[0mappend\u001b[0m\u001b[0;34m(\u001b[0m\u001b[0mself\u001b[0m\u001b[0;34m.\u001b[0m\u001b[0mY\u001b[0m\u001b[0;34m,\u001b[0m \u001b[0mself\u001b[0m\u001b[0;34m.\u001b[0m\u001b[0mf\u001b[0m\u001b[0;34m(\u001b[0m\u001b[0;34m**\u001b[0m\u001b[0mdict\u001b[0m\u001b[0;34m(\u001b[0m\u001b[0mzip\u001b[0m\u001b[0;34m(\u001b[0m\u001b[0mself\u001b[0m\u001b[0;34m.\u001b[0m\u001b[0mkeys\u001b[0m\u001b[0;34m,\u001b[0m \u001b[0mx_max\u001b[0m\u001b[0;34m)\u001b[0m\u001b[0;34m)\u001b[0m\u001b[0;34m)\u001b[0m\u001b[0;34m)\u001b[0m\u001b[0;34m\u001b[0m\u001b[0m\n\u001b[0m\u001b[1;32m    305\u001b[0m \u001b[0;34m\u001b[0m\u001b[0m\n\u001b[1;32m    306\u001b[0m             \u001b[0;31m# Updating the GP.\u001b[0m\u001b[0;34m\u001b[0m\u001b[0;34m\u001b[0m\u001b[0m\n",
      "\u001b[0;32m<ipython-input-29-80baca0e5611>\u001b[0m in \u001b[0;36mlgb_evaluate\u001b[0;34m(max_bin, num_leaves, min_sum_hessian_in_leaf, min_gain_to_split, feature_fraction, bagging_fraction, bagging_freq, lambda_l1, lambda_l2)\u001b[0m\n\u001b[1;32m     29\u001b[0m                         \u001b[0mstratified\u001b[0m\u001b[0;34m=\u001b[0m\u001b[0;32mTrue\u001b[0m\u001b[0;34m,\u001b[0m\u001b[0;34m\u001b[0m\u001b[0m\n\u001b[1;32m     30\u001b[0m                         \u001b[0mshuffle\u001b[0m\u001b[0;34m=\u001b[0m\u001b[0;32mTrue\u001b[0m\u001b[0;34m,\u001b[0m\u001b[0;34m\u001b[0m\u001b[0m\n\u001b[0;32m---> 31\u001b[0;31m                     \u001b[0mverbose_eval\u001b[0m\u001b[0;34m=\u001b[0m\u001b[0;36m100\u001b[0m\u001b[0;34m\u001b[0m\u001b[0m\n\u001b[0m\u001b[1;32m     32\u001b[0m                    )\n\u001b[1;32m     33\u001b[0m \u001b[0;34m\u001b[0m\u001b[0m\n",
      "\u001b[0;32m/Users/cchen1/anaconda3/lib/python3.5/site-packages/lightgbm/engine.py\u001b[0m in \u001b[0;36mcv\u001b[0;34m(params, train_set, num_boost_round, folds, nfold, stratified, shuffle, metrics, fobj, feval, init_model, feature_name, categorical_feature, early_stopping_rounds, fpreproc, verbose_eval, show_stdv, seed, callbacks)\u001b[0m\n\u001b[1;32m    442\u001b[0m                                     evaluation_result_list=None))\n\u001b[1;32m    443\u001b[0m         \u001b[0mcvfolds\u001b[0m\u001b[0;34m.\u001b[0m\u001b[0mupdate\u001b[0m\u001b[0;34m(\u001b[0m\u001b[0mfobj\u001b[0m\u001b[0;34m=\u001b[0m\u001b[0mfobj\u001b[0m\u001b[0;34m)\u001b[0m\u001b[0;34m\u001b[0m\u001b[0m\n\u001b[0;32m--> 444\u001b[0;31m         \u001b[0mres\u001b[0m \u001b[0;34m=\u001b[0m \u001b[0m_agg_cv_result\u001b[0m\u001b[0;34m(\u001b[0m\u001b[0mcvfolds\u001b[0m\u001b[0;34m.\u001b[0m\u001b[0meval_valid\u001b[0m\u001b[0;34m(\u001b[0m\u001b[0mfeval\u001b[0m\u001b[0;34m)\u001b[0m\u001b[0;34m)\u001b[0m\u001b[0;34m\u001b[0m\u001b[0m\n\u001b[0m\u001b[1;32m    445\u001b[0m         \u001b[0;32mfor\u001b[0m \u001b[0m_\u001b[0m\u001b[0;34m,\u001b[0m \u001b[0mkey\u001b[0m\u001b[0;34m,\u001b[0m \u001b[0mmean\u001b[0m\u001b[0;34m,\u001b[0m \u001b[0m_\u001b[0m\u001b[0;34m,\u001b[0m \u001b[0mstd\u001b[0m \u001b[0;32min\u001b[0m \u001b[0mres\u001b[0m\u001b[0;34m:\u001b[0m\u001b[0;34m\u001b[0m\u001b[0m\n\u001b[1;32m    446\u001b[0m             \u001b[0mresults\u001b[0m\u001b[0;34m[\u001b[0m\u001b[0mkey\u001b[0m \u001b[0;34m+\u001b[0m \u001b[0;34m'-mean'\u001b[0m\u001b[0;34m]\u001b[0m\u001b[0;34m.\u001b[0m\u001b[0mappend\u001b[0m\u001b[0;34m(\u001b[0m\u001b[0mmean\u001b[0m\u001b[0;34m)\u001b[0m\u001b[0;34m\u001b[0m\u001b[0m\n",
      "\u001b[0;32m/Users/cchen1/anaconda3/lib/python3.5/site-packages/lightgbm/engine.py\u001b[0m in \u001b[0;36mhandlerFunction\u001b[0;34m(*args, **kwargs)\u001b[0m\n\u001b[1;32m    242\u001b[0m             \u001b[0mret\u001b[0m \u001b[0;34m=\u001b[0m \u001b[0;34m[\u001b[0m\u001b[0;34m]\u001b[0m\u001b[0;34m\u001b[0m\u001b[0m\n\u001b[1;32m    243\u001b[0m             \u001b[0;32mfor\u001b[0m \u001b[0mbooster\u001b[0m \u001b[0;32min\u001b[0m \u001b[0mself\u001b[0m\u001b[0;34m.\u001b[0m\u001b[0mboosters\u001b[0m\u001b[0;34m:\u001b[0m\u001b[0;34m\u001b[0m\u001b[0m\n\u001b[0;32m--> 244\u001b[0;31m                 \u001b[0mret\u001b[0m\u001b[0;34m.\u001b[0m\u001b[0mappend\u001b[0m\u001b[0;34m(\u001b[0m\u001b[0mgetattr\u001b[0m\u001b[0;34m(\u001b[0m\u001b[0mbooster\u001b[0m\u001b[0;34m,\u001b[0m \u001b[0mname\u001b[0m\u001b[0;34m)\u001b[0m\u001b[0;34m(\u001b[0m\u001b[0;34m*\u001b[0m\u001b[0margs\u001b[0m\u001b[0;34m,\u001b[0m \u001b[0;34m**\u001b[0m\u001b[0mkwargs\u001b[0m\u001b[0;34m)\u001b[0m\u001b[0;34m)\u001b[0m\u001b[0;34m\u001b[0m\u001b[0m\n\u001b[0m\u001b[1;32m    245\u001b[0m             \u001b[0;32mreturn\u001b[0m \u001b[0mret\u001b[0m\u001b[0;34m\u001b[0m\u001b[0m\n\u001b[1;32m    246\u001b[0m         \u001b[0;32mreturn\u001b[0m \u001b[0mhandlerFunction\u001b[0m\u001b[0;34m\u001b[0m\u001b[0m\n",
      "\u001b[0;32m/Users/cchen1/anaconda3/lib/python3.5/site-packages/lightgbm/basic.py\u001b[0m in \u001b[0;36meval_valid\u001b[0;34m(self, feval)\u001b[0m\n\u001b[1;32m   1554\u001b[0m             \u001b[0mList\u001b[0m \u001b[0;32mwith\u001b[0m \u001b[0mevaluation\u001b[0m \u001b[0mresults\u001b[0m\u001b[0;34m.\u001b[0m\u001b[0;34m\u001b[0m\u001b[0m\n\u001b[1;32m   1555\u001b[0m         \"\"\"\n\u001b[0;32m-> 1556\u001b[0;31m         return [item for i in range_(1, self.__num_dataset)\n\u001b[0m\u001b[1;32m   1557\u001b[0m                 for item in self.__inner_eval(self.name_valid_sets[i - 1], i, feval)]\n\u001b[1;32m   1558\u001b[0m \u001b[0;34m\u001b[0m\u001b[0m\n",
      "\u001b[0;32m/Users/cchen1/anaconda3/lib/python3.5/site-packages/lightgbm/basic.py\u001b[0m in \u001b[0;36m<listcomp>\u001b[0;34m(.0)\u001b[0m\n\u001b[1;32m   1555\u001b[0m         \"\"\"\n\u001b[1;32m   1556\u001b[0m         return [item for i in range_(1, self.__num_dataset)\n\u001b[0;32m-> 1557\u001b[0;31m                 for item in self.__inner_eval(self.name_valid_sets[i - 1], i, feval)]\n\u001b[0m\u001b[1;32m   1558\u001b[0m \u001b[0;34m\u001b[0m\u001b[0m\n\u001b[1;32m   1559\u001b[0m     \u001b[0;32mdef\u001b[0m \u001b[0msave_model\u001b[0m\u001b[0;34m(\u001b[0m\u001b[0mself\u001b[0m\u001b[0;34m,\u001b[0m \u001b[0mfilename\u001b[0m\u001b[0;34m,\u001b[0m \u001b[0mnum_iteration\u001b[0m\u001b[0;34m=\u001b[0m\u001b[0;34m-\u001b[0m\u001b[0;36m1\u001b[0m\u001b[0;34m)\u001b[0m\u001b[0;34m:\u001b[0m\u001b[0;34m\u001b[0m\u001b[0m\n",
      "\u001b[0;32m/Users/cchen1/anaconda3/lib/python3.5/site-packages/lightgbm/basic.py\u001b[0m in \u001b[0;36m__inner_eval\u001b[0;34m(self, data_name, data_idx, feval)\u001b[0m\n\u001b[1;32m   1817\u001b[0m             \u001b[0;32melse\u001b[0m\u001b[0;34m:\u001b[0m\u001b[0;34m\u001b[0m\u001b[0m\n\u001b[1;32m   1818\u001b[0m                 \u001b[0mcur_data\u001b[0m \u001b[0;34m=\u001b[0m \u001b[0mself\u001b[0m\u001b[0;34m.\u001b[0m\u001b[0mvalid_sets\u001b[0m\u001b[0;34m[\u001b[0m\u001b[0mdata_idx\u001b[0m \u001b[0;34m-\u001b[0m \u001b[0;36m1\u001b[0m\u001b[0;34m]\u001b[0m\u001b[0;34m\u001b[0m\u001b[0m\n\u001b[0;32m-> 1819\u001b[0;31m             \u001b[0mfeval_ret\u001b[0m \u001b[0;34m=\u001b[0m \u001b[0mfeval\u001b[0m\u001b[0;34m(\u001b[0m\u001b[0mself\u001b[0m\u001b[0;34m.\u001b[0m\u001b[0m__inner_predict\u001b[0m\u001b[0;34m(\u001b[0m\u001b[0mdata_idx\u001b[0m\u001b[0;34m)\u001b[0m\u001b[0;34m,\u001b[0m \u001b[0mcur_data\u001b[0m\u001b[0;34m)\u001b[0m\u001b[0;34m\u001b[0m\u001b[0m\n\u001b[0m\u001b[1;32m   1820\u001b[0m             \u001b[0;32mif\u001b[0m \u001b[0misinstance\u001b[0m\u001b[0;34m(\u001b[0m\u001b[0mfeval_ret\u001b[0m\u001b[0;34m,\u001b[0m \u001b[0mlist\u001b[0m\u001b[0;34m)\u001b[0m\u001b[0;34m:\u001b[0m\u001b[0;34m\u001b[0m\u001b[0m\n\u001b[1;32m   1821\u001b[0m                 \u001b[0;32mfor\u001b[0m \u001b[0meval_name\u001b[0m\u001b[0;34m,\u001b[0m \u001b[0mval\u001b[0m\u001b[0;34m,\u001b[0m \u001b[0mis_higher_better\u001b[0m \u001b[0;32min\u001b[0m \u001b[0mfeval_ret\u001b[0m\u001b[0;34m:\u001b[0m\u001b[0;34m\u001b[0m\u001b[0m\n",
      "\u001b[0;32m<ipython-input-2-a4df15bf7648>\u001b[0m in \u001b[0;36mgini_lgb\u001b[0;34m(preds, dtrain)\u001b[0m\n\u001b[1;32m     18\u001b[0m \u001b[0;34m\u001b[0m\u001b[0m\n\u001b[1;32m     19\u001b[0m \u001b[0;32mdef\u001b[0m \u001b[0mgini_lgb\u001b[0m\u001b[0;34m(\u001b[0m\u001b[0mpreds\u001b[0m\u001b[0;34m,\u001b[0m \u001b[0mdtrain\u001b[0m\u001b[0;34m)\u001b[0m\u001b[0;34m:\u001b[0m\u001b[0;34m\u001b[0m\u001b[0m\n\u001b[0;32m---> 20\u001b[0;31m     \u001b[0my\u001b[0m \u001b[0;34m=\u001b[0m \u001b[0mlist\u001b[0m\u001b[0;34m(\u001b[0m\u001b[0mdtrain\u001b[0m\u001b[0;34m.\u001b[0m\u001b[0mget_label\u001b[0m\u001b[0;34m(\u001b[0m\u001b[0;34m)\u001b[0m\u001b[0;34m)\u001b[0m\u001b[0;34m\u001b[0m\u001b[0m\n\u001b[0m\u001b[1;32m     21\u001b[0m     \u001b[0mscore\u001b[0m \u001b[0;34m=\u001b[0m \u001b[0mgini\u001b[0m\u001b[0;34m(\u001b[0m\u001b[0my\u001b[0m\u001b[0;34m,\u001b[0m \u001b[0mpreds\u001b[0m\u001b[0;34m)\u001b[0m \u001b[0;34m/\u001b[0m \u001b[0mgini\u001b[0m\u001b[0;34m(\u001b[0m\u001b[0my\u001b[0m\u001b[0;34m,\u001b[0m \u001b[0my\u001b[0m\u001b[0;34m)\u001b[0m\u001b[0;34m\u001b[0m\u001b[0m\n\u001b[1;32m     22\u001b[0m     \u001b[0;32mreturn\u001b[0m \u001b[0;34m'gini'\u001b[0m\u001b[0;34m,\u001b[0m \u001b[0mscore\u001b[0m\u001b[0;34m,\u001b[0m \u001b[0;32mTrue\u001b[0m\u001b[0;34m\u001b[0m\u001b[0m\n",
      "\u001b[0;31mKeyboardInterrupt\u001b[0m: "
     ]
    }
   ],
   "source": [
    "def lgb_evaluate(max_bin,\n",
    "                 num_leaves,\n",
    "                 min_sum_hessian_in_leaf,\n",
    "                 min_gain_to_split,\n",
    "                 feature_fraction,\n",
    "                 bagging_fraction,\n",
    "                 bagging_freq,\n",
    "                 lambda_l1,\n",
    "                 lambda_l2\n",
    "                 ):\n",
    "    params = dict()\n",
    "    params['objective'] = 'binary'\n",
    "    params['learning_rate'] = 0.05\n",
    "    params['max_bin'] = int(max_bin)\n",
    "    params['num_leaves'] = int(num_leaves)    \n",
    "    params['min_sum_hessian_in_leaf'] = int(min_sum_hessian_in_leaf)\n",
    "    params['min_gain_to_split'] = min_gain_to_split    \n",
    "    params['feature_fraction'] = feature_fraction\n",
    "    params['bagging_fraction'] = bagging_fraction\n",
    "    params['bagging_freq'] = int(bagging_freq)\n",
    "\n",
    "\n",
    "    cv_results = lgb.cv(params,\n",
    "                    lgb.Dataset(train_x, train_y, max_bin=best_max_bin),\n",
    "                    num_boost_round=1000000,\n",
    "                    nfold=5,\n",
    "                    early_stopping_rounds=50,\n",
    "                    feval=gini_lgb,                         \n",
    "                        stratified=True,\n",
    "                        shuffle=True,\n",
    "                    verbose_eval=100\n",
    "                   )\n",
    "\n",
    "    return pd.DataFrame(cv_results)['gini-mean'].max()\n",
    "\n",
    "\n",
    "lgb_BO = BayesianOptimization(lgb_evaluate, \n",
    "                             {'max_bin': (255, 255),\n",
    "                              'num_leaves': (7, 31),\n",
    "                              'min_sum_hessian_in_leaf': (1, 10),\n",
    "                              'min_gain_to_split': (0,2),\n",
    "                              'feature_fraction': (0.1, 0.3),\n",
    "                              'bagging_fraction': (0.8,1),\n",
    "                              'bagging_freq': (1,5),\n",
    "                              'lambda_l1': (0,1),\n",
    "                              'lambda_l2': (0,1)\n",
    "                             }\n",
    "                            )\n",
    "\n",
    "lgb_BO.maximize(init_points=5, n_iter=50)\n",
    "\n"
   ]
  },
  {
   "cell_type": "markdown",
   "metadata": {},
   "source": [
    "#### Show LightGBM tuning results"
   ]
  },
  {
   "cell_type": "code",
   "execution_count": 30,
   "metadata": {},
   "outputs": [
    {
     "data": {
      "text/html": [
       "<div>\n",
       "<style>\n",
       "    .dataframe thead tr:only-child th {\n",
       "        text-align: right;\n",
       "    }\n",
       "\n",
       "    .dataframe thead th {\n",
       "        text-align: left;\n",
       "    }\n",
       "\n",
       "    .dataframe tbody tr th {\n",
       "        vertical-align: top;\n",
       "    }\n",
       "</style>\n",
       "<table border=\"1\" class=\"dataframe\">\n",
       "  <thead>\n",
       "    <tr style=\"text-align: right;\">\n",
       "      <th></th>\n",
       "      <th>bagging_fraction</th>\n",
       "      <th>bagging_freq</th>\n",
       "      <th>feature_fraction</th>\n",
       "      <th>lambda_l1</th>\n",
       "      <th>lambda_l2</th>\n",
       "      <th>max_bin</th>\n",
       "      <th>min_gain_to_split</th>\n",
       "      <th>min_sum_hessian_in_leaf</th>\n",
       "      <th>num_leaves</th>\n",
       "      <th>score</th>\n",
       "    </tr>\n",
       "  </thead>\n",
       "  <tbody>\n",
       "    <tr>\n",
       "      <th>4</th>\n",
       "      <td>0.835929</td>\n",
       "      <td>1.011608</td>\n",
       "      <td>0.228574</td>\n",
       "      <td>0.996858</td>\n",
       "      <td>0.141484</td>\n",
       "      <td>255.0</td>\n",
       "      <td>0.242556</td>\n",
       "      <td>9.374062</td>\n",
       "      <td>12.618081</td>\n",
       "      <td>0.281874</td>\n",
       "    </tr>\n",
       "    <tr>\n",
       "      <th>0</th>\n",
       "      <td>0.995707</td>\n",
       "      <td>1.017652</td>\n",
       "      <td>0.160557</td>\n",
       "      <td>0.106591</td>\n",
       "      <td>0.295665</td>\n",
       "      <td>255.0</td>\n",
       "      <td>0.031174</td>\n",
       "      <td>1.098333</td>\n",
       "      <td>30.369250</td>\n",
       "      <td>0.280675</td>\n",
       "    </tr>\n",
       "    <tr>\n",
       "      <th>2</th>\n",
       "      <td>0.893901</td>\n",
       "      <td>1.085636</td>\n",
       "      <td>0.118043</td>\n",
       "      <td>0.175993</td>\n",
       "      <td>0.020589</td>\n",
       "      <td>255.0</td>\n",
       "      <td>1.884657</td>\n",
       "      <td>1.529305</td>\n",
       "      <td>20.339972</td>\n",
       "      <td>0.276827</td>\n",
       "    </tr>\n",
       "    <tr>\n",
       "      <th>3</th>\n",
       "      <td>0.860226</td>\n",
       "      <td>4.464396</td>\n",
       "      <td>0.294549</td>\n",
       "      <td>0.016191</td>\n",
       "      <td>0.944377</td>\n",
       "      <td>255.0</td>\n",
       "      <td>0.115810</td>\n",
       "      <td>1.364556</td>\n",
       "      <td>21.030510</td>\n",
       "      <td>0.272529</td>\n",
       "    </tr>\n",
       "    <tr>\n",
       "      <th>1</th>\n",
       "      <td>0.995346</td>\n",
       "      <td>1.124763</td>\n",
       "      <td>0.273755</td>\n",
       "      <td>0.974929</td>\n",
       "      <td>0.991004</td>\n",
       "      <td>255.0</td>\n",
       "      <td>1.210086</td>\n",
       "      <td>1.672505</td>\n",
       "      <td>7.077497</td>\n",
       "      <td>0.265945</td>\n",
       "    </tr>\n",
       "  </tbody>\n",
       "</table>\n",
       "</div>"
      ],
      "text/plain": [
       "   bagging_fraction  bagging_freq  feature_fraction  lambda_l1  lambda_l2  \\\n",
       "4          0.835929      1.011608          0.228574   0.996858   0.141484   \n",
       "0          0.995707      1.017652          0.160557   0.106591   0.295665   \n",
       "2          0.893901      1.085636          0.118043   0.175993   0.020589   \n",
       "3          0.860226      4.464396          0.294549   0.016191   0.944377   \n",
       "1          0.995346      1.124763          0.273755   0.974929   0.991004   \n",
       "\n",
       "   max_bin  min_gain_to_split  min_sum_hessian_in_leaf  num_leaves     score  \n",
       "4    255.0           0.242556                 9.374062   12.618081  0.281874  \n",
       "0    255.0           0.031174                 1.098333   30.369250  0.280675  \n",
       "2    255.0           1.884657                 1.529305   20.339972  0.276827  \n",
       "3    255.0           0.115810                 1.364556   21.030510  0.272529  \n",
       "1    255.0           1.210086                 1.672505    7.077497  0.265945  "
      ]
     },
     "execution_count": 30,
     "metadata": {},
     "output_type": "execute_result"
    }
   ],
   "source": [
    "lgb_BO_scores = pd.DataFrame(lgb_BO.res['all']['params'])\n",
    "lgb_BO_scores['score'] = pd.DataFrame(lgb_BO.res['all']['values'])\n",
    "lgb_BO_scores = lgb_BO_scores.sort_values(by='score',ascending=False)\n",
    "lgb_BO_scores"
   ]
  },
  {
   "cell_type": "code",
   "execution_count": null,
   "metadata": {
    "collapsed": true
   },
   "outputs": [],
   "source": [
    "sns.pairplot(lgb_BO_scores)"
   ]
  },
  {
   "cell_type": "markdown",
   "metadata": {},
   "source": [
    "#### Train the model with smaller learning rate"
   ]
  },
  {
   "cell_type": "code",
   "execution_count": 31,
   "metadata": {},
   "outputs": [
    {
     "name": "stdout",
     "output_type": "stream",
     "text": [
      "[100]\tcv_agg's gini: 0.245456 + 0.0130952\n",
      "[200]\tcv_agg's gini: 0.249756 + 0.0133455\n",
      "[300]\tcv_agg's gini: 0.254414 + 0.0136462\n",
      "[400]\tcv_agg's gini: 0.258464 + 0.0135252\n",
      "[500]\tcv_agg's gini: 0.262464 + 0.0134802\n",
      "[600]\tcv_agg's gini: 0.266208 + 0.0133609\n",
      "[700]\tcv_agg's gini: 0.269288 + 0.0131785\n",
      "[800]\tcv_agg's gini: 0.271894 + 0.0130457\n",
      "[900]\tcv_agg's gini: 0.2742 + 0.0128004\n",
      "[1000]\tcv_agg's gini: 0.275566 + 0.0125949\n",
      "[1100]\tcv_agg's gini: 0.277108 + 0.0124008\n",
      "[1200]\tcv_agg's gini: 0.278279 + 0.0122772\n",
      "[1300]\tcv_agg's gini: 0.279139 + 0.0122409\n",
      "[1400]\tcv_agg's gini: 0.279914 + 0.01218\n",
      "[1500]\tcv_agg's gini: 0.28036 + 0.0121307\n",
      "[1600]\tcv_agg's gini: 0.280782 + 0.0120158\n",
      "[1700]\tcv_agg's gini: 0.281195 + 0.0118644\n",
      "[1800]\tcv_agg's gini: 0.281625 + 0.0118197\n",
      "[1900]\tcv_agg's gini: 0.281971 + 0.011749\n",
      "[2000]\tcv_agg's gini: 0.282169 + 0.0116699\n",
      "[2100]\tcv_agg's gini: 0.28231 + 0.0116398\n",
      "[2200]\tcv_agg's gini: 0.282501 + 0.0116089\n",
      "[2300]\tcv_agg's gini: 0.282582 + 0.0116072\n",
      "[2400]\tcv_agg's gini: 0.282613 + 0.0115532\n",
      "[2500]\tcv_agg's gini: 0.282737 + 0.0114547\n",
      "[2600]\tcv_agg's gini: 0.28283 + 0.0113918\n",
      "[2700]\tcv_agg's gini: 0.282837 + 0.0113137\n",
      "[2800]\tcv_agg's gini: 0.282809 + 0.0113813\n",
      "2630 0.282897335071\n"
     ]
    }
   ],
   "source": [
    "params = lgb_BO_scores.iloc[0].to_dict()\n",
    "lgb_params = dict()\n",
    "lgb_params['objective'] = 'binary'\n",
    "lgb_params['learning_rate'] = 0.01 # Smaller learning rate\n",
    "\n",
    "\n",
    "lgb_params['max_bin'] = int(params['max_bin'])   \n",
    "lgb_params['num_leaves'] = int(params['num_leaves'])    \n",
    "lgb_params['min_sum_hessian_in_leaf'] = int(params['min_sum_hessian_in_leaf'])\n",
    "lgb_params['min_gain_to_split'] = params['min_gain_to_split']     \n",
    "lgb_params['feature_fraction'] = params['feature_fraction']\n",
    "lgb_params['bagging_fraction'] = params['bagging_fraction']\n",
    "lgb_params['bagging_freq'] = 1\n",
    "\n",
    "\n",
    "cv_results = lgb.cv(lgb_params,\n",
    "                lgb.Dataset(train_x, train_y, max_bin=lgb_params['max_bin']),\n",
    "                num_boost_round=1000000,\n",
    "                nfold=5,\n",
    "                early_stopping_rounds=200,\n",
    "                feval=gini_lgb,                         \n",
    "                        stratified=True,\n",
    "                        shuffle=True,\n",
    "                verbose_eval=100\n",
    "               )\n",
    "\n",
    "cv_results = pd.DataFrame(cv_results)\n",
    "best_lgb_iteration = len(cv_results)\n",
    "best_lgb_score = cv_results['gini-mean'].max()\n",
    "\n",
    "print (best_lgb_iteration, best_lgb_score)\n",
    "\n",
    "\n",
    "\n"
   ]
  },
  {
   "cell_type": "code",
   "execution_count": 32,
   "metadata": {
    "collapsed": true
   },
   "outputs": [],
   "source": [
    "model = lgb.train(lgb_params,\n",
    "                  lgb.Dataset(train_x, max_bin=lgb_params['max_bin']),\n",
    "                  num_boost_round=best_lgb_iteration\n",
    "                  )\n",
    "\n",
    "preds = model.predict(test_x)\n",
    "\n",
    "sub_df = pd.DataFrame({'id': ids, 'target': preds})\n",
    "sub_df.to_csv(\"../output/sub_lgb_tuned.csv\", index=False)"
   ]
  },
  {
   "cell_type": "markdown",
   "metadata": {},
   "source": [
    "## Model stacking\n",
    "\n",
    "1. We'll leverage the tuned parameter sets to train 5 XGBoost models and 5 LightGBM models for level 1.\n",
    "2. The outputs of level models will contain 3(classes)*10(models) = 15 features. \n",
    "3. We'll train a MLP model using these 15 features only\n",
    "4. We'll train another LightGBM using these 15 features plus original features\n",
    "5. The outputs from the two level 2 models can be combined as the final submission"
   ]
  },
  {
   "cell_type": "code",
   "execution_count": 33,
   "metadata": {
    "collapsed": true
   },
   "outputs": [],
   "source": [
    "def blend_xgb_model(params_list, train_x, train_y, test_x, \n",
    "                    num_class, blend_folds,kf_random_state=1234, missing=None, \n",
    "                    stratified=False, shuffle=False  ):\n",
    "    if stratified:\n",
    "        skf = model_selection.StratifiedKFold(n_splits=blend_folds,random_state=kf_random_state, shuffle=shuffle)\n",
    "    else:\n",
    "        skf = model_selection.KFold(n_splits=blend_folds,random_state=kf_random_state, shuffle=shuffle)\n",
    "    skf_ids = list(skf.split(train_x, train_y))\n",
    "\n",
    "\n",
    "    train_blend_x = np.zeros((train_x.shape[0], len(params_list)))\n",
    "    test_blend_x = np.zeros((test_x.shape[0], len(params_list)))\n",
    "    blend_scores = np.zeros ((blend_folds,len(params_list)))\n",
    "\n",
    "    print  (\"Start blending.\")\n",
    "    for j, params in enumerate(params_list):\n",
    "        print (\"Blending model\",j+1, params)\n",
    "        test_blend_x_j = np.zeros((test_x.shape[0]))\n",
    "        for i, (train_ids, val_ids) in enumerate(skf_ids):\n",
    "            params['seed'] = random.randint(1, 65535)\n",
    "            start = time.time()\n",
    "            print (\"Model %d fold %d\" %(j+1,i+1))\n",
    "            train_x_fold = train_x[train_ids]\n",
    "            train_y_fold = train_y[train_ids]\n",
    "            val_x_fold = train_x[val_ids]\n",
    "            val_y_fold = train_y[val_ids]\n",
    "            # Set n_estimators to a large number for early_stopping   \n",
    "            print (params, params['num_boost_round'], missing)\n",
    "            model = xgb.train(params,\n",
    "                                xgb.DMatrix(train_x_fold, \n",
    "                                            label=train_y_fold.reshape(train_y_fold.shape[0],1), \n",
    "                                            missing=missing),\n",
    "                                num_boost_round=params['num_boost_round']\n",
    "                            )\n",
    "            val_y_predict_fold = model.predict(xgb.DMatrix(val_x_fold,missing=missing),\n",
    "                                              )\n",
    "            \n",
    "            score = gini_normalized(val_y_fold,val_y_predict_fold)\n",
    "            print (\"gini: \", score)\n",
    "            blend_scores[i,j]=score\n",
    "            train_blend_x[val_ids, j] = val_y_predict_fold\n",
    "            test_blend_x_j = test_blend_x_j + model.predict(xgb.DMatrix(test_x,missing=missing))\n",
    "            print (time.time()-start)\n",
    "        test_blend_x[:,j] = test_blend_x_j/blend_folds\n",
    "        print (\"Score for model %d is %f\" % (j+1,np.mean(blend_scores[:,j])))\n",
    "    return train_blend_x, test_blend_x, blend_scores    \n",
    "\n",
    "\n",
    "def blend_lgb_model(params_list, train_x, train_y, test_x, \n",
    "                    num_class, blend_folds,kf_random_state=1234, missing=None, \n",
    "                    stratified=False, shuffle=False  ):\n",
    "\n",
    "    if stratified:\n",
    "        skf = model_selection.StratifiedKFold(n_splits=blend_folds,random_state=kf_random_state, shuffle=shuffle)\n",
    "    else:\n",
    "        skf = model_selection.KFold(n_splits=blend_folds,random_state=kf_random_state, shuffle=shuffle)\n",
    "    skf_ids = list(skf.split(train_x, train_y))\n",
    "\n",
    "    train_blend_x = np.zeros((train_x.shape[0], len(params_list)))\n",
    "    test_blend_x = np.zeros((test_x.shape[0], len(params_list)))\n",
    "    blend_scores = np.zeros ((blend_folds,len(params_list)))\n",
    "\n",
    "    print  (\"Start blending.\")\n",
    "    for j, p in enumerate(params_list):\n",
    "        params = p\n",
    "        max_bin = params['max_bin']\n",
    "        num_boost_round=params['num_boost_round']\n",
    "        print (\"Blending model\",j+1, params)\n",
    "        test_blend_x_j = np.zeros((test_x.shape[0]))\n",
    "        for i, (train_ids, val_ids) in enumerate(skf_ids):\n",
    "            params['seed'] = random.randint(1, 65535)\n",
    "            start = time.time()\n",
    "            print (\"Model %d fold %d\" %(j+1,i+1))\n",
    "            train_x_fold = train_x[train_ids]\n",
    "            train_y_fold = train_y[train_ids]\n",
    "            val_x_fold = train_x[val_ids]\n",
    "            val_y_fold = train_y[val_ids]\n",
    "            # Set n_estimators to a large number for early_stopping          \n",
    "            model = lgb.train(params,\n",
    "                                lgb.Dataset(train_x_fold, train_y_fold, max_bin=max_bin),\n",
    "                                num_boost_round=num_boost_round\n",
    "                            )\n",
    "            val_y_predict_fold = model.predict(val_x_fold)\n",
    "            print (val_y_predict_fold.shape)\n",
    "            score = gini_normalized(val_y_fold,val_y_predict_fold)\n",
    "            print (\"gini: \", score)\n",
    "            blend_scores[i,j]=score\n",
    "            train_blend_x[val_ids, j] = val_y_predict_fold\n",
    "            test_blend_x_j = test_blend_x_j + model.predict(test_x)\n",
    "            print (time.time()-start)\n",
    "        test_blend_x[:,j] = test_blend_x_j/blend_folds\n",
    "        print (\"Score for model %d is %f\" % (j+1,np.mean(blend_scores[:,j])))\n",
    "    return train_blend_x, test_blend_x, blend_scores   \n",
    "\n",
    "\n"
   ]
  },
  {
   "cell_type": "code",
   "execution_count": 34,
   "metadata": {
    "collapsed": true
   },
   "outputs": [],
   "source": [
    "from sklearn.linear_model import LogisticRegression,RidgeClassifier\n",
    "from sklearn.neural_network import MLPClassifier\n",
    "def search_model(train_x, train_y, est, param_grid, n_jobs, cv, refit=False):\n",
    "##Grid Search for the best model\n",
    "    model = model_selection.GridSearchCV(estimator  = est,\n",
    "                                     param_grid = param_grid,\n",
    "                                     scoring    = 'log_loss',\n",
    "                                     verbose    = 10,\n",
    "                                     n_jobs  = n_jobs,\n",
    "                                     iid        = True,\n",
    "                                     refit    = refit,\n",
    "                                     cv      = cv)\n",
    "    # Fit Grid Search Model\n",
    "    model.fit(train_x, train_y)\n",
    "    print(\"Best score: %0.3f\" % model.best_score_)\n",
    "    print(\"Best parameters set:\", model.best_params_)\n",
    "    print(\"Scores:\", model.grid_scores_)\n",
    "    return model"
   ]
  },
  {
   "cell_type": "code",
   "execution_count": 36,
   "metadata": {},
   "outputs": [
    {
     "name": "stdout",
     "output_type": "stream",
     "text": [
      "{'min_gain_to_split': 0.24255593720901913, 'num_leaves': 12, 'num_boost_round': 2630, 'learning_rate': 0.01, 'bagging_freq': 1, 'objective': 'binary', 'min_sum_hessian_in_leaf': 9, 'max_bin': 255, 'bagging_fraction': 0.83592927590795107, 'feature_fraction': 0.22857358464208286}\n",
      "{'min_gain_to_split': 0.031173588596777435, 'num_leaves': 30, 'num_boost_round': 2630, 'learning_rate': 0.01, 'bagging_freq': 1, 'objective': 'binary', 'min_sum_hessian_in_leaf': 1, 'max_bin': 255, 'bagging_fraction': 0.99570666350920123, 'feature_fraction': 0.16055687024956619}\n",
      "{'min_gain_to_split': 1.8846566755033065, 'num_leaves': 20, 'num_boost_round': 2630, 'learning_rate': 0.01, 'bagging_freq': 1, 'objective': 'binary', 'min_sum_hessian_in_leaf': 1, 'max_bin': 255, 'bagging_fraction': 0.89390050820142686, 'feature_fraction': 0.11804285632573769}\n",
      "{'min_gain_to_split': 0.11581031881124648, 'num_leaves': 21, 'num_boost_round': 2630, 'learning_rate': 0.01, 'bagging_freq': 4, 'objective': 'binary', 'min_sum_hessian_in_leaf': 1, 'max_bin': 255, 'bagging_fraction': 0.86022609766414526, 'feature_fraction': 0.29454926109064627}\n",
      "{'min_gain_to_split': 1.2100861953732094, 'num_leaves': 7, 'num_boost_round': 2630, 'learning_rate': 0.01, 'bagging_freq': 1, 'objective': 'binary', 'min_sum_hessian_in_leaf': 1, 'max_bin': 255, 'bagging_fraction': 0.99534553967144157, 'feature_fraction': 0.27375493843798998}\n"
     ]
    }
   ],
   "source": [
    "lgb_param_list = []\n",
    "\n",
    "for p in lgb_BO_scores.head(5).iterrows(): #Top 5 sets of params\n",
    "    params = dict()\n",
    "    params['objective'] = 'binary'\n",
    "#     params['num_class'] = 3\n",
    "    params['learning_rate'] = 0.01\n",
    "    params['max_bin'] = int(p[1].to_dict()['max_bin'])\n",
    "    params['num_leaves'] = int(p[1].to_dict()['num_leaves'])   \n",
    "    params['min_sum_hessian_in_leaf'] = int(p[1].to_dict()['min_sum_hessian_in_leaf'])   \n",
    "    params['min_gain_to_split'] = p[1].to_dict()['min_gain_to_split']    \n",
    "    params['feature_fraction'] = p[1].to_dict()['feature_fraction']\n",
    "    params['bagging_fraction'] = p[1].to_dict()['bagging_fraction']\n",
    "    params['bagging_freq'] = int(p[1].to_dict()['bagging_freq'])\n",
    "    params['num_boost_round'] = best_lgb_iteration\n",
    "    print (params)\n",
    "    lgb_param_list.append(params) "
   ]
  },
  {
   "cell_type": "code",
   "execution_count": 37,
   "metadata": {},
   "outputs": [
    {
     "name": "stdout",
     "output_type": "stream",
     "text": [
      "[{'seed': 1234, 'gamma': 1.1693051989108374, 'num_boost_round': 116, 'colsample_bytree': 0.68611436536650439, 'eta': 0.01, 'objective': 'binary:logistic', 'subsample': 0.71621092856192148, 'max_depth': 5, 'min_child_weight': 99}, {'seed': 1234, 'gamma': 0.55685749802579743, 'num_boost_round': 116, 'colsample_bytree': 0.68374771249074318, 'eta': 0.01, 'objective': 'binary:logistic', 'subsample': 0.91324694792069505, 'max_depth': 5, 'min_child_weight': 99}, {'seed': 1234, 'gamma': 1.9567103536241206, 'num_boost_round': 116, 'colsample_bytree': 0.68160564738165164, 'eta': 0.01, 'objective': 'binary:logistic', 'subsample': 0.92134199483817492, 'max_depth': 5, 'min_child_weight': 99}, {'seed': 1234, 'gamma': 0.14561260853379809, 'num_boost_round': 116, 'colsample_bytree': 0.69028813807633915, 'eta': 0.01, 'objective': 'binary:logistic', 'subsample': 0.82405548622886127, 'max_depth': 6, 'min_child_weight': 76}, {'seed': 1234, 'gamma': 0.052297392872860282, 'num_boost_round': 116, 'colsample_bytree': 0.69976124834219844, 'eta': 0.01, 'objective': 'binary:logistic', 'subsample': 0.71636854707336828, 'max_depth': 7, 'min_child_weight': 84}]\n"
     ]
    }
   ],
   "source": [
    "\n",
    "xgb_param_list = []\n",
    "\n",
    "for p in xgb_BO_scores[:5].iterrows():\n",
    "    start = time.time()\n",
    "    params = dict()\n",
    "    params['objective'] = 'binary:logistic'\n",
    "    params['num_boost_round'] = best_xgb_iteration\n",
    "    params['eta'] = 0.01\n",
    "    params['max_depth'] = int(p[1].to_dict()['max_depth'])\n",
    "    params['min_child_weight'] = int(p[1].to_dict()['min_child_weight'])\n",
    "    params['subsample'] = p[1].to_dict()['subsample']\n",
    "    params['colsample_bytree'] = p[1].to_dict()['colsample_bytree']\n",
    "    params['gamma'] = p[1].to_dict()['gamma']\n",
    "    params['seed']=1234\n",
    "    xgb_param_list.append(params)\n",
    "\n",
    "print(xgb_param_list)"
   ]
  },
  {
   "cell_type": "code",
   "execution_count": 39,
   "metadata": {},
   "outputs": [
    {
     "name": "stdout",
     "output_type": "stream",
     "text": [
      "Start blending.\n",
      "Blending model 1 {'min_gain_to_split': 0.24255593720901913, 'seed': 33011, 'num_leaves': 12, 'num_boost_round': 2630, 'learning_rate': 0.01, 'bagging_freq': 1, 'objective': 'binary', 'min_sum_hessian_in_leaf': 9, 'max_bin': 255, 'bagging_fraction': 0.83592927590795107, 'feature_fraction': 0.22857358464208286}\n",
      "Model 1 fold 1\n"
     ]
    },
    {
     "name": "stderr",
     "output_type": "stream",
     "text": [
      "/Users/cchen1/anaconda3/lib/python3.5/site-packages/lightgbm/engine.py:98: UserWarning: Found `num_boost_round` in params. Will use it instead of argument\n",
      "  warnings.warn(\"Found `{}` in params. Will use it instead of argument\".format(alias))\n"
     ]
    },
    {
     "name": "stdout",
     "output_type": "stream",
     "text": [
      "(119043,)\n",
      "gini:  0.282980840596\n",
      "113.49352884292603\n",
      "Model 1 fold 2\n",
      "(119043,)\n",
      "gini:  0.293897844491\n",
      "113.16185593605042\n",
      "Model 1 fold 3\n",
      "(119043,)\n",
      "gini:  0.283981184867\n",
      "113.93773984909058\n",
      "Model 1 fold 4\n",
      "(119042,)\n",
      "gini:  0.281680274118\n",
      "118.78514790534973\n",
      "Model 1 fold 5\n",
      "(119041,)\n",
      "gini:  0.279760602248\n",
      "117.20585894584656\n",
      "Score for model 1 is 0.284460\n",
      "Blending model 2 {'min_gain_to_split': 0.031173588596777435, 'num_leaves': 30, 'num_boost_round': 2630, 'learning_rate': 0.01, 'bagging_freq': 1, 'objective': 'binary', 'min_sum_hessian_in_leaf': 1, 'max_bin': 255, 'bagging_fraction': 0.99570666350920123, 'feature_fraction': 0.16055687024956619}\n",
      "Model 2 fold 1\n",
      "(119043,)\n",
      "gini:  0.282557144148\n",
      "170.1182541847229\n",
      "Model 2 fold 2\n",
      "(119043,)\n",
      "gini:  0.290514059519\n",
      "180.5348060131073\n",
      "Model 2 fold 3\n",
      "(119043,)\n",
      "gini:  0.282028436788\n",
      "183.93272399902344\n",
      "Model 2 fold 4\n",
      "(119042,)\n",
      "gini:  0.280218503204\n",
      "180.87095999717712\n",
      "Model 2 fold 5\n",
      "(119041,)\n",
      "gini:  0.27746404633\n",
      "193.42901611328125\n",
      "Score for model 2 is 0.282556\n",
      "Blending model 3 {'min_gain_to_split': 1.8846566755033065, 'num_leaves': 20, 'num_boost_round': 2630, 'learning_rate': 0.01, 'bagging_freq': 1, 'objective': 'binary', 'min_sum_hessian_in_leaf': 1, 'max_bin': 255, 'bagging_fraction': 0.89390050820142686, 'feature_fraction': 0.11804285632573769}\n",
      "Model 3 fold 1\n",
      "(119043,)\n",
      "gini:  0.278447698088\n",
      "138.38125705718994\n",
      "Model 3 fold 2\n",
      "(119043,)\n",
      "gini:  0.287790289752\n",
      "137.54460883140564\n",
      "Model 3 fold 3\n",
      "(119043,)\n",
      "gini:  0.278658865179\n",
      "130.06286883354187\n",
      "Model 3 fold 4\n",
      "(119042,)\n",
      "gini:  0.276733377957\n",
      "119.1026120185852\n",
      "Model 3 fold 5\n",
      "(119041,)\n",
      "gini:  0.273681273923\n",
      "105.08075094223022\n",
      "Score for model 3 is 0.279062\n",
      "Blending model 4 {'min_gain_to_split': 0.11581031881124648, 'num_leaves': 21, 'num_boost_round': 2630, 'learning_rate': 0.01, 'bagging_freq': 4, 'objective': 'binary', 'min_sum_hessian_in_leaf': 1, 'max_bin': 255, 'bagging_fraction': 0.86022609766414526, 'feature_fraction': 0.29454926109064627}\n",
      "Model 4 fold 1\n",
      "(119043,)\n",
      "gini:  0.277398396678\n",
      "121.61624002456665\n",
      "Model 4 fold 2\n",
      "(119043,)\n",
      "gini:  0.289713630596\n",
      "124.56770515441895\n",
      "Model 4 fold 3\n"
     ]
    },
    {
     "ename": "KeyboardInterrupt",
     "evalue": "",
     "output_type": "error",
     "traceback": [
      "\u001b[0;31m---------------------------------------------------------------------------\u001b[0m",
      "\u001b[0;31mKeyboardInterrupt\u001b[0m                         Traceback (most recent call last)",
      "\u001b[0;32m<ipython-input-39-aaa5e29fc401>\u001b[0m in \u001b[0;36m<module>\u001b[0;34m()\u001b[0m\n\u001b[1;32m      6\u001b[0m                                                                                          \u001b[0mblend_folds\u001b[0m\u001b[0;34m=\u001b[0m\u001b[0;36m5\u001b[0m\u001b[0;34m,\u001b[0m\u001b[0;34m\u001b[0m\u001b[0m\n\u001b[1;32m      7\u001b[0m                                                                                          \u001b[0mstratified\u001b[0m\u001b[0;34m=\u001b[0m\u001b[0;32mTrue\u001b[0m\u001b[0;34m,\u001b[0m\u001b[0;34m\u001b[0m\u001b[0m\n\u001b[0;32m----> 8\u001b[0;31m                                                                                         \u001b[0mshuffle\u001b[0m\u001b[0;34m=\u001b[0m\u001b[0;32mTrue\u001b[0m\u001b[0;34m,\u001b[0m\u001b[0;34m\u001b[0m\u001b[0m\n\u001b[0m\u001b[1;32m      9\u001b[0m                                                                                         )\n\u001b[1;32m     10\u001b[0m \u001b[0;34m\u001b[0m\u001b[0m\n",
      "\u001b[0;32m<ipython-input-33-9c2d7475fcc1>\u001b[0m in \u001b[0;36mblend_lgb_model\u001b[0;34m(params_list, train_x, train_y, test_x, num_class, blend_folds, kf_random_state, missing, stratified, shuffle)\u001b[0m\n\u001b[1;32m     79\u001b[0m             model = lgb.train(params,\n\u001b[1;32m     80\u001b[0m                                 \u001b[0mlgb\u001b[0m\u001b[0;34m.\u001b[0m\u001b[0mDataset\u001b[0m\u001b[0;34m(\u001b[0m\u001b[0mtrain_x_fold\u001b[0m\u001b[0;34m,\u001b[0m \u001b[0mtrain_y_fold\u001b[0m\u001b[0;34m,\u001b[0m \u001b[0mmax_bin\u001b[0m\u001b[0;34m=\u001b[0m\u001b[0mmax_bin\u001b[0m\u001b[0;34m)\u001b[0m\u001b[0;34m,\u001b[0m\u001b[0;34m\u001b[0m\u001b[0m\n\u001b[0;32m---> 81\u001b[0;31m                                 \u001b[0mnum_boost_round\u001b[0m\u001b[0;34m=\u001b[0m\u001b[0mnum_boost_round\u001b[0m\u001b[0;34m\u001b[0m\u001b[0m\n\u001b[0m\u001b[1;32m     82\u001b[0m                             )\n\u001b[1;32m     83\u001b[0m             \u001b[0mval_y_predict_fold\u001b[0m \u001b[0;34m=\u001b[0m \u001b[0mmodel\u001b[0m\u001b[0;34m.\u001b[0m\u001b[0mpredict\u001b[0m\u001b[0;34m(\u001b[0m\u001b[0mval_x_fold\u001b[0m\u001b[0;34m)\u001b[0m\u001b[0;34m\u001b[0m\u001b[0m\n",
      "\u001b[0;32m/Users/cchen1/anaconda3/lib/python3.5/site-packages/lightgbm/engine.py\u001b[0m in \u001b[0;36mtrain\u001b[0;34m(params, train_set, num_boost_round, valid_sets, valid_names, fobj, feval, init_model, feature_name, categorical_feature, early_stopping_rounds, evals_result, verbose_eval, learning_rates, keep_training_booster, callbacks)\u001b[0m\n\u001b[1;32m    197\u001b[0m                                     evaluation_result_list=None))\n\u001b[1;32m    198\u001b[0m \u001b[0;34m\u001b[0m\u001b[0m\n\u001b[0;32m--> 199\u001b[0;31m         \u001b[0mbooster\u001b[0m\u001b[0;34m.\u001b[0m\u001b[0mupdate\u001b[0m\u001b[0;34m(\u001b[0m\u001b[0mfobj\u001b[0m\u001b[0;34m=\u001b[0m\u001b[0mfobj\u001b[0m\u001b[0;34m)\u001b[0m\u001b[0;34m\u001b[0m\u001b[0m\n\u001b[0m\u001b[1;32m    200\u001b[0m \u001b[0;34m\u001b[0m\u001b[0m\n\u001b[1;32m    201\u001b[0m         \u001b[0mevaluation_result_list\u001b[0m \u001b[0;34m=\u001b[0m \u001b[0;34m[\u001b[0m\u001b[0;34m]\u001b[0m\u001b[0;34m\u001b[0m\u001b[0m\n",
      "\u001b[0;32m/Users/cchen1/anaconda3/lib/python3.5/site-packages/lightgbm/basic.py\u001b[0m in \u001b[0;36mupdate\u001b[0;34m(self, train_set, fobj)\u001b[0m\n\u001b[1;32m   1434\u001b[0m             _safe_call(_LIB.LGBM_BoosterUpdateOneIter(\n\u001b[1;32m   1435\u001b[0m                 \u001b[0mself\u001b[0m\u001b[0;34m.\u001b[0m\u001b[0mhandle\u001b[0m\u001b[0;34m,\u001b[0m\u001b[0;34m\u001b[0m\u001b[0m\n\u001b[0;32m-> 1436\u001b[0;31m                 ctypes.byref(is_finished)))\n\u001b[0m\u001b[1;32m   1437\u001b[0m             \u001b[0mself\u001b[0m\u001b[0;34m.\u001b[0m\u001b[0m__is_predicted_cur_iter\u001b[0m \u001b[0;34m=\u001b[0m \u001b[0;34m[\u001b[0m\u001b[0;32mFalse\u001b[0m \u001b[0;32mfor\u001b[0m \u001b[0m_\u001b[0m \u001b[0;32min\u001b[0m \u001b[0mrange_\u001b[0m\u001b[0;34m(\u001b[0m\u001b[0mself\u001b[0m\u001b[0;34m.\u001b[0m\u001b[0m__num_dataset\u001b[0m\u001b[0;34m)\u001b[0m\u001b[0;34m]\u001b[0m\u001b[0;34m\u001b[0m\u001b[0m\n\u001b[1;32m   1438\u001b[0m             \u001b[0;32mreturn\u001b[0m \u001b[0mis_finished\u001b[0m\u001b[0;34m.\u001b[0m\u001b[0mvalue\u001b[0m \u001b[0;34m==\u001b[0m \u001b[0;36m1\u001b[0m\u001b[0;34m\u001b[0m\u001b[0m\n",
      "\u001b[0;31mKeyboardInterrupt\u001b[0m: "
     ]
    }
   ],
   "source": [
    "train_blend_x_lgb_01, test_blend_x_lgb_01, blend_scores_lgb_01 = blend_lgb_model(lgb_param_list,\n",
    "                                                                                         train_x,\n",
    "                                                                                         train_y,\n",
    "                                                                                         test_x,\n",
    "                                                                                         num_class=2,\n",
    "                                                                                         blend_folds=5,\n",
    "                                                                                         stratified=True,\n",
    "                                                                                        shuffle=True,\n",
    "                                                                                        )\n",
    "\n",
    "np.savetxt('../input/train_blend_x_lgb_01.csv',train_blend_x_lgb_01, delimiter=',')\n",
    "np.savetxt('../input/test_blend_x_lgb_01.csv',test_blend_x_lgb_01, delimiter=',')"
   ]
  },
  {
   "cell_type": "code",
   "execution_count": null,
   "metadata": {
    "collapsed": true
   },
   "outputs": [],
   "source": [
    "train_blend_x_xgb_01, test_blend_x_xgb_01, blend_scores_xgb_01 = blend_xgb_model(xgb_param_list,\n",
    "                                                                                         train_x,\n",
    "                                                                                         train_y,\n",
    "                                                                                         test_x,\n",
    "                                                                                         num_class=2,\n",
    "                                                                                         blend_folds=5,\n",
    "                                                                                         stratified=True,\n",
    "                                                                                        shuffle=True,\n",
    "                                                                                        )\n",
    "\n",
    "\n",
    "np.savetxt('../input/train_blend_x_xgb_01.csv',train_blend_x_xgb_01, delimiter=',')\n",
    "np.savetxt('../input/test_blend_x_xgb_01.csv',test_blend_x_xgb_01, delimiter=',')"
   ]
  },
  {
   "cell_type": "markdown",
   "metadata": {},
   "source": [
    "### Level 1 LightGBM + XGBoost -> Level 2 Logistic Regression\n",
    "\n",
    "Here we are training a Logistic Regression model with features generated Level 1 models. "
   ]
  },
  {
   "cell_type": "code",
   "execution_count": null,
   "metadata": {
    "collapsed": true
   },
   "outputs": [],
   "source": [
    "\n",
    "param_grid = {\n",
    "    \"C\": [0.001, 0.01, 0.1, 1, 10, 100]\n",
    "}\n",
    "model = search_model(np.hstack([train_blend_x_lgb_01, train_blend_x_xgb_01])\n",
    "                     train_y, LogisticRegression(), param_grid, n_jobs=1, cv=4, refit=True)"
   ]
  },
  {
   "cell_type": "code",
   "execution_count": null,
   "metadata": {
    "collapsed": true
   },
   "outputs": [],
   "source": [
    "preds_lr = model.predict_proba(np.hstack([test_blend_x_lgb_01, test_blend_x_xgb_01]))\n",
    "\n",
    "sub_df = pd.DataFrame({'id': ids, 'target': preds_lr[:,1]})\n",
    "sub_df.to_csv(\"../output/sub_l1lgb_xgb_l2lr.csv\", index=False)"
   ]
  },
  {
   "cell_type": "markdown",
   "metadata": {},
   "source": [
    "### Level 1 LightGBM features + original features -> Level 2 LightGBM\n",
    "\n",
    "Here we are training a LightGBM model with features generated by Level 1 models, PLUS original features."
   ]
  },
  {
   "cell_type": "code",
   "execution_count": null,
   "metadata": {
    "collapsed": true
   },
   "outputs": [],
   "source": [
    "params = lgb_BO_scores.iloc[0].to_dict()\n",
    "lgb_params = dict()\n",
    "lgb_params['objective'] = 'binary'\n",
    "lgb_params['learning_rate'] = 0.01 # Smaller learning rate\n",
    "\n",
    "\n",
    "lgb_params['max_bin'] = int(params['max_bin'])   \n",
    "lgb_params['num_leaves'] = int(params['num_leaves'])    \n",
    "lgb_params['min_sum_hessian_in_leaf'] = int(params['min_sum_hessian_in_leaf'])\n",
    "lgb_params['min_gain_to_split'] = params['min_gain_to_split']     \n",
    "lgb_params['feature_fraction'] = params['feature_fraction']\n",
    "lgb_params['bagging_fraction'] = params['bagging_fraction']\n",
    "lgb_params['bagging_freq'] = 1\n",
    "\n",
    "\n",
    "cv_results = lgb.cv(lgb_params,\n",
    "                lgb.Dataset(np.hstack((train_x,train_blend_x_lgb_01, train_blend_x_xgb_01)), train_y, max_bin=lgb_params['max_bin']),\n",
    "                num_boost_round=1000000,\n",
    "                nfold=5,\n",
    "                early_stopping_rounds=200,\n",
    "                feval=gini_lgb,                         \n",
    "                        stratified=True,\n",
    "                        shuffle=True,\n",
    "                verbose_eval=100\n",
    "               )\n",
    "\n",
    "cv_results = pd.DataFrame(cv_results)\n",
    "best_lgb_iteration_stack = len(cv_results)\n",
    "best_lgb_score_stack = cv_results['gini-mean'].max()\n",
    "\n",
    "print (best_lgb_iteration_stack, best_lgb_score_stack)\n"
   ]
  },
  {
   "cell_type": "code",
   "execution_count": null,
   "metadata": {
    "collapsed": true
   },
   "outputs": [],
   "source": [
    "model = lgb.train(lgb_params,\n",
    "                  lgb.Dataset(train_x, max_bin=lgb_params['max_bin']),\n",
    "                  num_boost_round=best_lgb_iteration\n",
    "                  )\n",
    "\n",
    "preds_lgb = model.predict(np.hstack((test_x,test_blend_x_lgb_01, test_blend_x_xgb_01)))\n",
    "\n",
    "sub_df = pd.DataFrame({'id': ids, 'target': preds_lgb})\n",
    "sub_df.to_csv(\"../output/sub_l1lgb_xgb_l2lgb.csv\", index=False)"
   ]
  },
  {
   "cell_type": "markdown",
   "metadata": {},
   "source": [
    "#### Final ensemble"
   ]
  },
  {
   "cell_type": "code",
   "execution_count": null,
   "metadata": {
    "collapsed": true
   },
   "outputs": [],
   "source": [
    "preds = (preds_lr + preds_lgb)/2\n",
    "\n",
    "sub_df = pd.DataFrame({'id': ids, 'target': preds})\n",
    "sub_df.to_csv(\"../output/sub_l1lgb_xgb_l2lrlgb.csv\", index=False)"
   ]
  },
  {
   "cell_type": "markdown",
   "metadata": {},
   "source": [
    "# Conclusion\n",
    "\n",
    "In this week we've learnt how to create model ensemble, particularly with model stacking scheme. Keep in mind that the key considerations for building a good ensemble solution are diversity and randomness which can be introduced by:\n",
    "\n",
    "* Deploying heterogeneous algorithms\n",
    "* Using modified version of training data\n",
    "* Randomizing learning algorithms with different parameters\n",
    "\n",
    "\n",
    "# Addtional readings\n",
    "\n",
    "* [Kaggle Ensembling Guide by MLWave](http://mlwave.com/kaggle-ensembling-guide/)\n",
    "* [Deep Forest: Towards An Alternative to Deep Neural Networks by Zhihua Zhou](https://arxiv.org/abs/1702.08835)\n",
    "* StackNet by Kaz-Anova\n",
    "    * https://github.com/kaz-Anova/StackNet\n",
    "    * https://www.kaggle.com/c/two-sigma-connect-rental-listing-inquiries/discussion/30012"
   ]
  }
 ],
 "metadata": {
  "anaconda-cloud": {},
  "kernelspec": {
   "display_name": "Python [default]",
   "language": "python",
   "name": "python3"
  },
  "language_info": {
   "codemirror_mode": {
    "name": "ipython",
    "version": 3
   },
   "file_extension": ".py",
   "mimetype": "text/x-python",
   "name": "python",
   "nbconvert_exporter": "python",
   "pygments_lexer": "ipython3",
   "version": "3.5.2"
  },
  "varInspector": {
   "cols": {
    "lenName": 16,
    "lenType": 16,
    "lenVar": 40
   },
   "kernels_config": {
    "python": {
     "delete_cmd_postfix": "",
     "delete_cmd_prefix": "del ",
     "library": "var_list.py",
     "varRefreshCmd": "print(var_dic_list())"
    },
    "r": {
     "delete_cmd_postfix": ") ",
     "delete_cmd_prefix": "rm(",
     "library": "var_list.r",
     "varRefreshCmd": "cat(var_dic_list()) "
    }
   },
   "types_to_exclude": [
    "module",
    "function",
    "builtin_function_or_method",
    "instance",
    "_Feature"
   ],
   "window_display": false
  }
 },
 "nbformat": 4,
 "nbformat_minor": 1
}
